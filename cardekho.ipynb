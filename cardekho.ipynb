{
 "cells": [
  {
   "cell_type": "code",
   "execution_count": 1,
   "metadata": {},
   "outputs": [],
   "source": [
    "import pandas as pd"
   ]
  },
  {
   "cell_type": "code",
   "execution_count": 2,
   "metadata": {},
   "outputs": [],
   "source": [
    "df=pd.read_csv('E:/projects_end_to_end/car dekho project/CAR_DETAILS_FROM_CAR_DEKHO.csv')"
   ]
  },
  {
   "cell_type": "code",
   "execution_count": 3,
   "metadata": {},
   "outputs": [
    {
     "data": {
      "text/html": [
       "<div>\n",
       "<style scoped>\n",
       "    .dataframe tbody tr th:only-of-type {\n",
       "        vertical-align: middle;\n",
       "    }\n",
       "\n",
       "    .dataframe tbody tr th {\n",
       "        vertical-align: top;\n",
       "    }\n",
       "\n",
       "    .dataframe thead th {\n",
       "        text-align: right;\n",
       "    }\n",
       "</style>\n",
       "<table border=\"1\" class=\"dataframe\">\n",
       "  <thead>\n",
       "    <tr style=\"text-align: right;\">\n",
       "      <th></th>\n",
       "      <th>name</th>\n",
       "      <th>year</th>\n",
       "      <th>selling_price</th>\n",
       "      <th>km_driven</th>\n",
       "      <th>fuel</th>\n",
       "      <th>seller_type</th>\n",
       "      <th>transmission</th>\n",
       "      <th>owner</th>\n",
       "    </tr>\n",
       "  </thead>\n",
       "  <tbody>\n",
       "    <tr>\n",
       "      <th>0</th>\n",
       "      <td>Maruti 800 AC</td>\n",
       "      <td>2007</td>\n",
       "      <td>60000</td>\n",
       "      <td>70000</td>\n",
       "      <td>Petrol</td>\n",
       "      <td>Individual</td>\n",
       "      <td>Manual</td>\n",
       "      <td>First Owner</td>\n",
       "    </tr>\n",
       "    <tr>\n",
       "      <th>1</th>\n",
       "      <td>Maruti Wagon R LXI Minor</td>\n",
       "      <td>2007</td>\n",
       "      <td>135000</td>\n",
       "      <td>50000</td>\n",
       "      <td>Petrol</td>\n",
       "      <td>Individual</td>\n",
       "      <td>Manual</td>\n",
       "      <td>First Owner</td>\n",
       "    </tr>\n",
       "    <tr>\n",
       "      <th>2</th>\n",
       "      <td>Hyundai Verna 1.6 SX</td>\n",
       "      <td>2012</td>\n",
       "      <td>600000</td>\n",
       "      <td>100000</td>\n",
       "      <td>Diesel</td>\n",
       "      <td>Individual</td>\n",
       "      <td>Manual</td>\n",
       "      <td>First Owner</td>\n",
       "    </tr>\n",
       "    <tr>\n",
       "      <th>3</th>\n",
       "      <td>Datsun RediGO T Option</td>\n",
       "      <td>2017</td>\n",
       "      <td>250000</td>\n",
       "      <td>46000</td>\n",
       "      <td>Petrol</td>\n",
       "      <td>Individual</td>\n",
       "      <td>Manual</td>\n",
       "      <td>First Owner</td>\n",
       "    </tr>\n",
       "    <tr>\n",
       "      <th>4</th>\n",
       "      <td>Honda Amaze VX i-DTEC</td>\n",
       "      <td>2014</td>\n",
       "      <td>450000</td>\n",
       "      <td>141000</td>\n",
       "      <td>Diesel</td>\n",
       "      <td>Individual</td>\n",
       "      <td>Manual</td>\n",
       "      <td>Second Owner</td>\n",
       "    </tr>\n",
       "  </tbody>\n",
       "</table>\n",
       "</div>"
      ],
      "text/plain": [
       "                       name  year  selling_price  km_driven    fuel  \\\n",
       "0             Maruti 800 AC  2007          60000      70000  Petrol   \n",
       "1  Maruti Wagon R LXI Minor  2007         135000      50000  Petrol   \n",
       "2      Hyundai Verna 1.6 SX  2012         600000     100000  Diesel   \n",
       "3    Datsun RediGO T Option  2017         250000      46000  Petrol   \n",
       "4     Honda Amaze VX i-DTEC  2014         450000     141000  Diesel   \n",
       "\n",
       "  seller_type transmission         owner  \n",
       "0  Individual       Manual   First Owner  \n",
       "1  Individual       Manual   First Owner  \n",
       "2  Individual       Manual   First Owner  \n",
       "3  Individual       Manual   First Owner  \n",
       "4  Individual       Manual  Second Owner  "
      ]
     },
     "execution_count": 3,
     "metadata": {},
     "output_type": "execute_result"
    }
   ],
   "source": [
    "df.head()"
   ]
  },
  {
   "cell_type": "code",
   "execution_count": 4,
   "metadata": {},
   "outputs": [
    {
     "data": {
      "text/plain": [
       "(4340, 8)"
      ]
     },
     "execution_count": 4,
     "metadata": {},
     "output_type": "execute_result"
    }
   ],
   "source": [
    "df.shape"
   ]
  },
  {
   "cell_type": "code",
   "execution_count": 5,
   "metadata": {},
   "outputs": [],
   "source": [
    "## there are 4 categorical features in the above dataframe"
   ]
  },
  {
   "cell_type": "code",
   "execution_count": 6,
   "metadata": {},
   "outputs": [
    {
     "data": {
      "text/plain": [
       "array(['Individual', 'Dealer', 'Trustmark Dealer'], dtype=object)"
      ]
     },
     "execution_count": 6,
     "metadata": {},
     "output_type": "execute_result"
    }
   ],
   "source": [
    "df['seller_type'].unique()"
   ]
  },
  {
   "cell_type": "code",
   "execution_count": 7,
   "metadata": {},
   "outputs": [
    {
     "data": {
      "text/plain": [
       "array(['Manual', 'Automatic'], dtype=object)"
      ]
     },
     "execution_count": 7,
     "metadata": {},
     "output_type": "execute_result"
    }
   ],
   "source": [
    "df['transmission'].unique()"
   ]
  },
  {
   "cell_type": "code",
   "execution_count": 8,
   "metadata": {},
   "outputs": [
    {
     "data": {
      "text/plain": [
       "array(['First Owner', 'Second Owner', 'Fourth & Above Owner',\n",
       "       'Third Owner', 'Test Drive Car'], dtype=object)"
      ]
     },
     "execution_count": 8,
     "metadata": {},
     "output_type": "execute_result"
    }
   ],
   "source": [
    "df['owner'].unique()"
   ]
  },
  {
   "cell_type": "markdown",
   "metadata": {},
   "source": [
    "### checking for missing values in the dataset"
   ]
  },
  {
   "cell_type": "code",
   "execution_count": 9,
   "metadata": {},
   "outputs": [
    {
     "data": {
      "text/plain": [
       "name             0\n",
       "year             0\n",
       "selling_price    0\n",
       "km_driven        0\n",
       "fuel             0\n",
       "seller_type      0\n",
       "transmission     0\n",
       "owner            0\n",
       "dtype: int64"
      ]
     },
     "execution_count": 9,
     "metadata": {},
     "output_type": "execute_result"
    }
   ],
   "source": [
    "df.isnull().sum()"
   ]
  },
  {
   "cell_type": "markdown",
   "metadata": {},
   "source": [
    "## lets us drop the column car name because it is not important feature"
   ]
  },
  {
   "cell_type": "code",
   "execution_count": 10,
   "metadata": {},
   "outputs": [
    {
     "data": {
      "text/plain": [
       "Index(['name', 'year', 'selling_price', 'km_driven', 'fuel', 'seller_type',\n",
       "       'transmission', 'owner'],\n",
       "      dtype='object')"
      ]
     },
     "execution_count": 10,
     "metadata": {},
     "output_type": "execute_result"
    }
   ],
   "source": [
    "df.columns"
   ]
  },
  {
   "cell_type": "code",
   "execution_count": 11,
   "metadata": {},
   "outputs": [],
   "source": [
    "final_df=df[['year', 'selling_price', 'km_driven', 'fuel', 'seller_type',\n",
    "       'transmission', 'owner']]"
   ]
  },
  {
   "cell_type": "code",
   "execution_count": 12,
   "metadata": {},
   "outputs": [
    {
     "data": {
      "text/html": [
       "<div>\n",
       "<style scoped>\n",
       "    .dataframe tbody tr th:only-of-type {\n",
       "        vertical-align: middle;\n",
       "    }\n",
       "\n",
       "    .dataframe tbody tr th {\n",
       "        vertical-align: top;\n",
       "    }\n",
       "\n",
       "    .dataframe thead th {\n",
       "        text-align: right;\n",
       "    }\n",
       "</style>\n",
       "<table border=\"1\" class=\"dataframe\">\n",
       "  <thead>\n",
       "    <tr style=\"text-align: right;\">\n",
       "      <th></th>\n",
       "      <th>year</th>\n",
       "      <th>selling_price</th>\n",
       "      <th>km_driven</th>\n",
       "      <th>fuel</th>\n",
       "      <th>seller_type</th>\n",
       "      <th>transmission</th>\n",
       "      <th>owner</th>\n",
       "    </tr>\n",
       "  </thead>\n",
       "  <tbody>\n",
       "    <tr>\n",
       "      <th>0</th>\n",
       "      <td>2007</td>\n",
       "      <td>60000</td>\n",
       "      <td>70000</td>\n",
       "      <td>Petrol</td>\n",
       "      <td>Individual</td>\n",
       "      <td>Manual</td>\n",
       "      <td>First Owner</td>\n",
       "    </tr>\n",
       "    <tr>\n",
       "      <th>1</th>\n",
       "      <td>2007</td>\n",
       "      <td>135000</td>\n",
       "      <td>50000</td>\n",
       "      <td>Petrol</td>\n",
       "      <td>Individual</td>\n",
       "      <td>Manual</td>\n",
       "      <td>First Owner</td>\n",
       "    </tr>\n",
       "    <tr>\n",
       "      <th>2</th>\n",
       "      <td>2012</td>\n",
       "      <td>600000</td>\n",
       "      <td>100000</td>\n",
       "      <td>Diesel</td>\n",
       "      <td>Individual</td>\n",
       "      <td>Manual</td>\n",
       "      <td>First Owner</td>\n",
       "    </tr>\n",
       "    <tr>\n",
       "      <th>3</th>\n",
       "      <td>2017</td>\n",
       "      <td>250000</td>\n",
       "      <td>46000</td>\n",
       "      <td>Petrol</td>\n",
       "      <td>Individual</td>\n",
       "      <td>Manual</td>\n",
       "      <td>First Owner</td>\n",
       "    </tr>\n",
       "    <tr>\n",
       "      <th>4</th>\n",
       "      <td>2014</td>\n",
       "      <td>450000</td>\n",
       "      <td>141000</td>\n",
       "      <td>Diesel</td>\n",
       "      <td>Individual</td>\n",
       "      <td>Manual</td>\n",
       "      <td>Second Owner</td>\n",
       "    </tr>\n",
       "  </tbody>\n",
       "</table>\n",
       "</div>"
      ],
      "text/plain": [
       "   year  selling_price  km_driven    fuel seller_type transmission  \\\n",
       "0  2007          60000      70000  Petrol  Individual       Manual   \n",
       "1  2007         135000      50000  Petrol  Individual       Manual   \n",
       "2  2012         600000     100000  Diesel  Individual       Manual   \n",
       "3  2017         250000      46000  Petrol  Individual       Manual   \n",
       "4  2014         450000     141000  Diesel  Individual       Manual   \n",
       "\n",
       "          owner  \n",
       "0   First Owner  \n",
       "1   First Owner  \n",
       "2   First Owner  \n",
       "3   First Owner  \n",
       "4  Second Owner  "
      ]
     },
     "execution_count": 12,
     "metadata": {},
     "output_type": "execute_result"
    }
   ],
   "source": [
    "final_df.head()"
   ]
  },
  {
   "cell_type": "code",
   "execution_count": 13,
   "metadata": {},
   "outputs": [],
   "source": [
    "final_df['current_year']=2020"
   ]
  },
  {
   "cell_type": "code",
   "execution_count": 14,
   "metadata": {},
   "outputs": [
    {
     "data": {
      "text/html": [
       "<div>\n",
       "<style scoped>\n",
       "    .dataframe tbody tr th:only-of-type {\n",
       "        vertical-align: middle;\n",
       "    }\n",
       "\n",
       "    .dataframe tbody tr th {\n",
       "        vertical-align: top;\n",
       "    }\n",
       "\n",
       "    .dataframe thead th {\n",
       "        text-align: right;\n",
       "    }\n",
       "</style>\n",
       "<table border=\"1\" class=\"dataframe\">\n",
       "  <thead>\n",
       "    <tr style=\"text-align: right;\">\n",
       "      <th></th>\n",
       "      <th>year</th>\n",
       "      <th>selling_price</th>\n",
       "      <th>km_driven</th>\n",
       "      <th>fuel</th>\n",
       "      <th>seller_type</th>\n",
       "      <th>transmission</th>\n",
       "      <th>owner</th>\n",
       "      <th>current_year</th>\n",
       "    </tr>\n",
       "  </thead>\n",
       "  <tbody>\n",
       "    <tr>\n",
       "      <th>0</th>\n",
       "      <td>2007</td>\n",
       "      <td>60000</td>\n",
       "      <td>70000</td>\n",
       "      <td>Petrol</td>\n",
       "      <td>Individual</td>\n",
       "      <td>Manual</td>\n",
       "      <td>First Owner</td>\n",
       "      <td>2020</td>\n",
       "    </tr>\n",
       "    <tr>\n",
       "      <th>1</th>\n",
       "      <td>2007</td>\n",
       "      <td>135000</td>\n",
       "      <td>50000</td>\n",
       "      <td>Petrol</td>\n",
       "      <td>Individual</td>\n",
       "      <td>Manual</td>\n",
       "      <td>First Owner</td>\n",
       "      <td>2020</td>\n",
       "    </tr>\n",
       "    <tr>\n",
       "      <th>2</th>\n",
       "      <td>2012</td>\n",
       "      <td>600000</td>\n",
       "      <td>100000</td>\n",
       "      <td>Diesel</td>\n",
       "      <td>Individual</td>\n",
       "      <td>Manual</td>\n",
       "      <td>First Owner</td>\n",
       "      <td>2020</td>\n",
       "    </tr>\n",
       "    <tr>\n",
       "      <th>3</th>\n",
       "      <td>2017</td>\n",
       "      <td>250000</td>\n",
       "      <td>46000</td>\n",
       "      <td>Petrol</td>\n",
       "      <td>Individual</td>\n",
       "      <td>Manual</td>\n",
       "      <td>First Owner</td>\n",
       "      <td>2020</td>\n",
       "    </tr>\n",
       "    <tr>\n",
       "      <th>4</th>\n",
       "      <td>2014</td>\n",
       "      <td>450000</td>\n",
       "      <td>141000</td>\n",
       "      <td>Diesel</td>\n",
       "      <td>Individual</td>\n",
       "      <td>Manual</td>\n",
       "      <td>Second Owner</td>\n",
       "      <td>2020</td>\n",
       "    </tr>\n",
       "  </tbody>\n",
       "</table>\n",
       "</div>"
      ],
      "text/plain": [
       "   year  selling_price  km_driven    fuel seller_type transmission  \\\n",
       "0  2007          60000      70000  Petrol  Individual       Manual   \n",
       "1  2007         135000      50000  Petrol  Individual       Manual   \n",
       "2  2012         600000     100000  Diesel  Individual       Manual   \n",
       "3  2017         250000      46000  Petrol  Individual       Manual   \n",
       "4  2014         450000     141000  Diesel  Individual       Manual   \n",
       "\n",
       "          owner  current_year  \n",
       "0   First Owner          2020  \n",
       "1   First Owner          2020  \n",
       "2   First Owner          2020  \n",
       "3   First Owner          2020  \n",
       "4  Second Owner          2020  "
      ]
     },
     "execution_count": 14,
     "metadata": {},
     "output_type": "execute_result"
    }
   ],
   "source": [
    "final_df.head()"
   ]
  },
  {
   "cell_type": "markdown",
   "metadata": {},
   "source": [
    "## deriving the new feature of number of years"
   ]
  },
  {
   "cell_type": "code",
   "execution_count": 15,
   "metadata": {},
   "outputs": [],
   "source": [
    "final_df['no_of_years']=final_df['current_year']-final_df['year']"
   ]
  },
  {
   "cell_type": "code",
   "execution_count": 16,
   "metadata": {},
   "outputs": [
    {
     "data": {
      "text/html": [
       "<div>\n",
       "<style scoped>\n",
       "    .dataframe tbody tr th:only-of-type {\n",
       "        vertical-align: middle;\n",
       "    }\n",
       "\n",
       "    .dataframe tbody tr th {\n",
       "        vertical-align: top;\n",
       "    }\n",
       "\n",
       "    .dataframe thead th {\n",
       "        text-align: right;\n",
       "    }\n",
       "</style>\n",
       "<table border=\"1\" class=\"dataframe\">\n",
       "  <thead>\n",
       "    <tr style=\"text-align: right;\">\n",
       "      <th></th>\n",
       "      <th>year</th>\n",
       "      <th>selling_price</th>\n",
       "      <th>km_driven</th>\n",
       "      <th>fuel</th>\n",
       "      <th>seller_type</th>\n",
       "      <th>transmission</th>\n",
       "      <th>owner</th>\n",
       "      <th>current_year</th>\n",
       "      <th>no_of_years</th>\n",
       "    </tr>\n",
       "  </thead>\n",
       "  <tbody>\n",
       "    <tr>\n",
       "      <th>0</th>\n",
       "      <td>2007</td>\n",
       "      <td>60000</td>\n",
       "      <td>70000</td>\n",
       "      <td>Petrol</td>\n",
       "      <td>Individual</td>\n",
       "      <td>Manual</td>\n",
       "      <td>First Owner</td>\n",
       "      <td>2020</td>\n",
       "      <td>13</td>\n",
       "    </tr>\n",
       "    <tr>\n",
       "      <th>1</th>\n",
       "      <td>2007</td>\n",
       "      <td>135000</td>\n",
       "      <td>50000</td>\n",
       "      <td>Petrol</td>\n",
       "      <td>Individual</td>\n",
       "      <td>Manual</td>\n",
       "      <td>First Owner</td>\n",
       "      <td>2020</td>\n",
       "      <td>13</td>\n",
       "    </tr>\n",
       "    <tr>\n",
       "      <th>2</th>\n",
       "      <td>2012</td>\n",
       "      <td>600000</td>\n",
       "      <td>100000</td>\n",
       "      <td>Diesel</td>\n",
       "      <td>Individual</td>\n",
       "      <td>Manual</td>\n",
       "      <td>First Owner</td>\n",
       "      <td>2020</td>\n",
       "      <td>8</td>\n",
       "    </tr>\n",
       "    <tr>\n",
       "      <th>3</th>\n",
       "      <td>2017</td>\n",
       "      <td>250000</td>\n",
       "      <td>46000</td>\n",
       "      <td>Petrol</td>\n",
       "      <td>Individual</td>\n",
       "      <td>Manual</td>\n",
       "      <td>First Owner</td>\n",
       "      <td>2020</td>\n",
       "      <td>3</td>\n",
       "    </tr>\n",
       "    <tr>\n",
       "      <th>4</th>\n",
       "      <td>2014</td>\n",
       "      <td>450000</td>\n",
       "      <td>141000</td>\n",
       "      <td>Diesel</td>\n",
       "      <td>Individual</td>\n",
       "      <td>Manual</td>\n",
       "      <td>Second Owner</td>\n",
       "      <td>2020</td>\n",
       "      <td>6</td>\n",
       "    </tr>\n",
       "  </tbody>\n",
       "</table>\n",
       "</div>"
      ],
      "text/plain": [
       "   year  selling_price  km_driven    fuel seller_type transmission  \\\n",
       "0  2007          60000      70000  Petrol  Individual       Manual   \n",
       "1  2007         135000      50000  Petrol  Individual       Manual   \n",
       "2  2012         600000     100000  Diesel  Individual       Manual   \n",
       "3  2017         250000      46000  Petrol  Individual       Manual   \n",
       "4  2014         450000     141000  Diesel  Individual       Manual   \n",
       "\n",
       "          owner  current_year  no_of_years  \n",
       "0   First Owner          2020           13  \n",
       "1   First Owner          2020           13  \n",
       "2   First Owner          2020            8  \n",
       "3   First Owner          2020            3  \n",
       "4  Second Owner          2020            6  "
      ]
     },
     "execution_count": 16,
     "metadata": {},
     "output_type": "execute_result"
    }
   ],
   "source": [
    "final_df.head()"
   ]
  },
  {
   "cell_type": "code",
   "execution_count": 17,
   "metadata": {},
   "outputs": [],
   "source": [
    "final_df.drop(['year'],axis=1,inplace=True)"
   ]
  },
  {
   "cell_type": "code",
   "execution_count": 18,
   "metadata": {},
   "outputs": [
    {
     "data": {
      "text/html": [
       "<div>\n",
       "<style scoped>\n",
       "    .dataframe tbody tr th:only-of-type {\n",
       "        vertical-align: middle;\n",
       "    }\n",
       "\n",
       "    .dataframe tbody tr th {\n",
       "        vertical-align: top;\n",
       "    }\n",
       "\n",
       "    .dataframe thead th {\n",
       "        text-align: right;\n",
       "    }\n",
       "</style>\n",
       "<table border=\"1\" class=\"dataframe\">\n",
       "  <thead>\n",
       "    <tr style=\"text-align: right;\">\n",
       "      <th></th>\n",
       "      <th>selling_price</th>\n",
       "      <th>km_driven</th>\n",
       "      <th>fuel</th>\n",
       "      <th>seller_type</th>\n",
       "      <th>transmission</th>\n",
       "      <th>owner</th>\n",
       "      <th>current_year</th>\n",
       "      <th>no_of_years</th>\n",
       "    </tr>\n",
       "  </thead>\n",
       "  <tbody>\n",
       "    <tr>\n",
       "      <th>0</th>\n",
       "      <td>60000</td>\n",
       "      <td>70000</td>\n",
       "      <td>Petrol</td>\n",
       "      <td>Individual</td>\n",
       "      <td>Manual</td>\n",
       "      <td>First Owner</td>\n",
       "      <td>2020</td>\n",
       "      <td>13</td>\n",
       "    </tr>\n",
       "    <tr>\n",
       "      <th>1</th>\n",
       "      <td>135000</td>\n",
       "      <td>50000</td>\n",
       "      <td>Petrol</td>\n",
       "      <td>Individual</td>\n",
       "      <td>Manual</td>\n",
       "      <td>First Owner</td>\n",
       "      <td>2020</td>\n",
       "      <td>13</td>\n",
       "    </tr>\n",
       "    <tr>\n",
       "      <th>2</th>\n",
       "      <td>600000</td>\n",
       "      <td>100000</td>\n",
       "      <td>Diesel</td>\n",
       "      <td>Individual</td>\n",
       "      <td>Manual</td>\n",
       "      <td>First Owner</td>\n",
       "      <td>2020</td>\n",
       "      <td>8</td>\n",
       "    </tr>\n",
       "    <tr>\n",
       "      <th>3</th>\n",
       "      <td>250000</td>\n",
       "      <td>46000</td>\n",
       "      <td>Petrol</td>\n",
       "      <td>Individual</td>\n",
       "      <td>Manual</td>\n",
       "      <td>First Owner</td>\n",
       "      <td>2020</td>\n",
       "      <td>3</td>\n",
       "    </tr>\n",
       "    <tr>\n",
       "      <th>4</th>\n",
       "      <td>450000</td>\n",
       "      <td>141000</td>\n",
       "      <td>Diesel</td>\n",
       "      <td>Individual</td>\n",
       "      <td>Manual</td>\n",
       "      <td>Second Owner</td>\n",
       "      <td>2020</td>\n",
       "      <td>6</td>\n",
       "    </tr>\n",
       "  </tbody>\n",
       "</table>\n",
       "</div>"
      ],
      "text/plain": [
       "   selling_price  km_driven    fuel seller_type transmission         owner  \\\n",
       "0          60000      70000  Petrol  Individual       Manual   First Owner   \n",
       "1         135000      50000  Petrol  Individual       Manual   First Owner   \n",
       "2         600000     100000  Diesel  Individual       Manual   First Owner   \n",
       "3         250000      46000  Petrol  Individual       Manual   First Owner   \n",
       "4         450000     141000  Diesel  Individual       Manual  Second Owner   \n",
       "\n",
       "   current_year  no_of_years  \n",
       "0          2020           13  \n",
       "1          2020           13  \n",
       "2          2020            8  \n",
       "3          2020            3  \n",
       "4          2020            6  "
      ]
     },
     "execution_count": 18,
     "metadata": {},
     "output_type": "execute_result"
    }
   ],
   "source": [
    "final_df.head()"
   ]
  },
  {
   "cell_type": "code",
   "execution_count": 19,
   "metadata": {},
   "outputs": [],
   "source": [
    "final_df.drop(['current_year'],axis=1,inplace=True)"
   ]
  },
  {
   "cell_type": "markdown",
   "metadata": {},
   "source": [
    "## one hot encoding"
   ]
  },
  {
   "cell_type": "code",
   "execution_count": 20,
   "metadata": {},
   "outputs": [],
   "source": [
    "final_df=pd.get_dummies(final_df,drop_first=True)"
   ]
  },
  {
   "cell_type": "code",
   "execution_count": 21,
   "metadata": {},
   "outputs": [
    {
     "data": {
      "text/html": [
       "<div>\n",
       "<style scoped>\n",
       "    .dataframe tbody tr th:only-of-type {\n",
       "        vertical-align: middle;\n",
       "    }\n",
       "\n",
       "    .dataframe tbody tr th {\n",
       "        vertical-align: top;\n",
       "    }\n",
       "\n",
       "    .dataframe thead th {\n",
       "        text-align: right;\n",
       "    }\n",
       "</style>\n",
       "<table border=\"1\" class=\"dataframe\">\n",
       "  <thead>\n",
       "    <tr style=\"text-align: right;\">\n",
       "      <th></th>\n",
       "      <th>selling_price</th>\n",
       "      <th>km_driven</th>\n",
       "      <th>no_of_years</th>\n",
       "      <th>fuel_Diesel</th>\n",
       "      <th>fuel_Electric</th>\n",
       "      <th>fuel_LPG</th>\n",
       "      <th>fuel_Petrol</th>\n",
       "      <th>seller_type_Individual</th>\n",
       "      <th>seller_type_Trustmark Dealer</th>\n",
       "      <th>transmission_Manual</th>\n",
       "      <th>owner_Fourth &amp; Above Owner</th>\n",
       "      <th>owner_Second Owner</th>\n",
       "      <th>owner_Test Drive Car</th>\n",
       "      <th>owner_Third Owner</th>\n",
       "    </tr>\n",
       "  </thead>\n",
       "  <tbody>\n",
       "    <tr>\n",
       "      <th>0</th>\n",
       "      <td>60000</td>\n",
       "      <td>70000</td>\n",
       "      <td>13</td>\n",
       "      <td>0</td>\n",
       "      <td>0</td>\n",
       "      <td>0</td>\n",
       "      <td>1</td>\n",
       "      <td>1</td>\n",
       "      <td>0</td>\n",
       "      <td>1</td>\n",
       "      <td>0</td>\n",
       "      <td>0</td>\n",
       "      <td>0</td>\n",
       "      <td>0</td>\n",
       "    </tr>\n",
       "    <tr>\n",
       "      <th>1</th>\n",
       "      <td>135000</td>\n",
       "      <td>50000</td>\n",
       "      <td>13</td>\n",
       "      <td>0</td>\n",
       "      <td>0</td>\n",
       "      <td>0</td>\n",
       "      <td>1</td>\n",
       "      <td>1</td>\n",
       "      <td>0</td>\n",
       "      <td>1</td>\n",
       "      <td>0</td>\n",
       "      <td>0</td>\n",
       "      <td>0</td>\n",
       "      <td>0</td>\n",
       "    </tr>\n",
       "    <tr>\n",
       "      <th>2</th>\n",
       "      <td>600000</td>\n",
       "      <td>100000</td>\n",
       "      <td>8</td>\n",
       "      <td>1</td>\n",
       "      <td>0</td>\n",
       "      <td>0</td>\n",
       "      <td>0</td>\n",
       "      <td>1</td>\n",
       "      <td>0</td>\n",
       "      <td>1</td>\n",
       "      <td>0</td>\n",
       "      <td>0</td>\n",
       "      <td>0</td>\n",
       "      <td>0</td>\n",
       "    </tr>\n",
       "    <tr>\n",
       "      <th>3</th>\n",
       "      <td>250000</td>\n",
       "      <td>46000</td>\n",
       "      <td>3</td>\n",
       "      <td>0</td>\n",
       "      <td>0</td>\n",
       "      <td>0</td>\n",
       "      <td>1</td>\n",
       "      <td>1</td>\n",
       "      <td>0</td>\n",
       "      <td>1</td>\n",
       "      <td>0</td>\n",
       "      <td>0</td>\n",
       "      <td>0</td>\n",
       "      <td>0</td>\n",
       "    </tr>\n",
       "    <tr>\n",
       "      <th>4</th>\n",
       "      <td>450000</td>\n",
       "      <td>141000</td>\n",
       "      <td>6</td>\n",
       "      <td>1</td>\n",
       "      <td>0</td>\n",
       "      <td>0</td>\n",
       "      <td>0</td>\n",
       "      <td>1</td>\n",
       "      <td>0</td>\n",
       "      <td>1</td>\n",
       "      <td>0</td>\n",
       "      <td>1</td>\n",
       "      <td>0</td>\n",
       "      <td>0</td>\n",
       "    </tr>\n",
       "  </tbody>\n",
       "</table>\n",
       "</div>"
      ],
      "text/plain": [
       "   selling_price  km_driven  no_of_years  fuel_Diesel  fuel_Electric  \\\n",
       "0          60000      70000           13            0              0   \n",
       "1         135000      50000           13            0              0   \n",
       "2         600000     100000            8            1              0   \n",
       "3         250000      46000            3            0              0   \n",
       "4         450000     141000            6            1              0   \n",
       "\n",
       "   fuel_LPG  fuel_Petrol  seller_type_Individual  \\\n",
       "0         0            1                       1   \n",
       "1         0            1                       1   \n",
       "2         0            0                       1   \n",
       "3         0            1                       1   \n",
       "4         0            0                       1   \n",
       "\n",
       "   seller_type_Trustmark Dealer  transmission_Manual  \\\n",
       "0                             0                    1   \n",
       "1                             0                    1   \n",
       "2                             0                    1   \n",
       "3                             0                    1   \n",
       "4                             0                    1   \n",
       "\n",
       "   owner_Fourth & Above Owner  owner_Second Owner  owner_Test Drive Car  \\\n",
       "0                           0                   0                     0   \n",
       "1                           0                   0                     0   \n",
       "2                           0                   0                     0   \n",
       "3                           0                   0                     0   \n",
       "4                           0                   1                     0   \n",
       "\n",
       "   owner_Third Owner  \n",
       "0                  0  \n",
       "1                  0  \n",
       "2                  0  \n",
       "3                  0  \n",
       "4                  0  "
      ]
     },
     "execution_count": 21,
     "metadata": {},
     "output_type": "execute_result"
    }
   ],
   "source": [
    "final_df.head()"
   ]
  },
  {
   "cell_type": "markdown",
   "metadata": {},
   "source": [
    "# correlation"
   ]
  },
  {
   "cell_type": "code",
   "execution_count": 22,
   "metadata": {},
   "outputs": [
    {
     "data": {
      "text/html": [
       "<div>\n",
       "<style scoped>\n",
       "    .dataframe tbody tr th:only-of-type {\n",
       "        vertical-align: middle;\n",
       "    }\n",
       "\n",
       "    .dataframe tbody tr th {\n",
       "        vertical-align: top;\n",
       "    }\n",
       "\n",
       "    .dataframe thead th {\n",
       "        text-align: right;\n",
       "    }\n",
       "</style>\n",
       "<table border=\"1\" class=\"dataframe\">\n",
       "  <thead>\n",
       "    <tr style=\"text-align: right;\">\n",
       "      <th></th>\n",
       "      <th>selling_price</th>\n",
       "      <th>km_driven</th>\n",
       "      <th>no_of_years</th>\n",
       "      <th>fuel_Diesel</th>\n",
       "      <th>fuel_Electric</th>\n",
       "      <th>fuel_LPG</th>\n",
       "      <th>fuel_Petrol</th>\n",
       "      <th>seller_type_Individual</th>\n",
       "      <th>seller_type_Trustmark Dealer</th>\n",
       "      <th>transmission_Manual</th>\n",
       "      <th>owner_Fourth &amp; Above Owner</th>\n",
       "      <th>owner_Second Owner</th>\n",
       "      <th>owner_Test Drive Car</th>\n",
       "      <th>owner_Third Owner</th>\n",
       "    </tr>\n",
       "  </thead>\n",
       "  <tbody>\n",
       "    <tr>\n",
       "      <th>selling_price</th>\n",
       "      <td>1.000000</td>\n",
       "      <td>-0.192289</td>\n",
       "      <td>-0.413922</td>\n",
       "      <td>0.282947</td>\n",
       "      <td>-0.005095</td>\n",
       "      <td>-0.042434</td>\n",
       "      <td>-0.269453</td>\n",
       "      <td>-0.236798</td>\n",
       "      <td>0.110176</td>\n",
       "      <td>-0.530205</td>\n",
       "      <td>-0.078725</td>\n",
       "      <td>-0.161986</td>\n",
       "      <td>0.048799</td>\n",
       "      <td>-0.111326</td>\n",
       "    </tr>\n",
       "    <tr>\n",
       "      <th>km_driven</th>\n",
       "      <td>-0.192289</td>\n",
       "      <td>1.000000</td>\n",
       "      <td>0.419688</td>\n",
       "      <td>0.285396</td>\n",
       "      <td>-0.001372</td>\n",
       "      <td>0.036652</td>\n",
       "      <td>-0.291139</td>\n",
       "      <td>0.182663</td>\n",
       "      <td>-0.089858</td>\n",
       "      <td>0.120226</td>\n",
       "      <td>0.097349</td>\n",
       "      <td>0.195203</td>\n",
       "      <td>-0.083445</td>\n",
       "      <td>0.194713</td>\n",
       "    </tr>\n",
       "    <tr>\n",
       "      <th>no_of_years</th>\n",
       "      <td>-0.413922</td>\n",
       "      <td>0.419688</td>\n",
       "      <td>1.000000</td>\n",
       "      <td>-0.121424</td>\n",
       "      <td>0.025540</td>\n",
       "      <td>0.051266</td>\n",
       "      <td>0.114908</td>\n",
       "      <td>0.173703</td>\n",
       "      <td>-0.100225</td>\n",
       "      <td>0.143800</td>\n",
       "      <td>0.186361</td>\n",
       "      <td>0.292349</td>\n",
       "      <td>-0.095795</td>\n",
       "      <td>0.244308</td>\n",
       "    </tr>\n",
       "    <tr>\n",
       "      <th>fuel_Diesel</th>\n",
       "      <td>0.282947</td>\n",
       "      <td>0.285396</td>\n",
       "      <td>-0.121424</td>\n",
       "      <td>1.000000</td>\n",
       "      <td>-0.015063</td>\n",
       "      <td>-0.072422</td>\n",
       "      <td>-0.970934</td>\n",
       "      <td>-0.035314</td>\n",
       "      <td>-0.007911</td>\n",
       "      <td>-0.048098</td>\n",
       "      <td>-0.021054</td>\n",
       "      <td>0.003524</td>\n",
       "      <td>-0.010575</td>\n",
       "      <td>0.009373</td>\n",
       "    </tr>\n",
       "    <tr>\n",
       "      <th>fuel_Electric</th>\n",
       "      <td>-0.005095</td>\n",
       "      <td>-0.001372</td>\n",
       "      <td>0.025540</td>\n",
       "      <td>-0.015063</td>\n",
       "      <td>1.000000</td>\n",
       "      <td>-0.001108</td>\n",
       "      <td>-0.014856</td>\n",
       "      <td>-0.026118</td>\n",
       "      <td>-0.002355</td>\n",
       "      <td>-0.044746</td>\n",
       "      <td>-0.002094</td>\n",
       "      <td>0.025960</td>\n",
       "      <td>-0.000952</td>\n",
       "      <td>-0.004166</td>\n",
       "    </tr>\n",
       "    <tr>\n",
       "      <th>fuel_LPG</th>\n",
       "      <td>-0.042434</td>\n",
       "      <td>0.036652</td>\n",
       "      <td>0.051266</td>\n",
       "      <td>-0.072422</td>\n",
       "      <td>-0.001108</td>\n",
       "      <td>1.000000</td>\n",
       "      <td>-0.071427</td>\n",
       "      <td>0.035122</td>\n",
       "      <td>-0.011324</td>\n",
       "      <td>0.024764</td>\n",
       "      <td>0.013384</td>\n",
       "      <td>0.030141</td>\n",
       "      <td>-0.004577</td>\n",
       "      <td>0.004836</td>\n",
       "    </tr>\n",
       "    <tr>\n",
       "      <th>fuel_Petrol</th>\n",
       "      <td>-0.269453</td>\n",
       "      <td>-0.291139</td>\n",
       "      <td>0.114908</td>\n",
       "      <td>-0.970934</td>\n",
       "      <td>-0.014856</td>\n",
       "      <td>-0.071427</td>\n",
       "      <td>1.000000</td>\n",
       "      <td>0.029845</td>\n",
       "      <td>0.012489</td>\n",
       "      <td>0.039614</td>\n",
       "      <td>0.011502</td>\n",
       "      <td>-0.012717</td>\n",
       "      <td>0.012427</td>\n",
       "      <td>-0.008502</td>\n",
       "    </tr>\n",
       "    <tr>\n",
       "      <th>seller_type_Individual</th>\n",
       "      <td>-0.236798</td>\n",
       "      <td>0.182663</td>\n",
       "      <td>0.173703</td>\n",
       "      <td>-0.035314</td>\n",
       "      <td>-0.026118</td>\n",
       "      <td>0.035122</td>\n",
       "      <td>0.029845</td>\n",
       "      <td>1.000000</td>\n",
       "      <td>-0.266904</td>\n",
       "      <td>0.214163</td>\n",
       "      <td>0.072322</td>\n",
       "      <td>0.186573</td>\n",
       "      <td>-0.107886</td>\n",
       "      <td>0.140823</td>\n",
       "    </tr>\n",
       "    <tr>\n",
       "      <th>seller_type_Trustmark Dealer</th>\n",
       "      <td>0.110176</td>\n",
       "      <td>-0.089858</td>\n",
       "      <td>-0.100225</td>\n",
       "      <td>-0.007911</td>\n",
       "      <td>-0.002355</td>\n",
       "      <td>-0.011324</td>\n",
       "      <td>0.012489</td>\n",
       "      <td>-0.266904</td>\n",
       "      <td>1.000000</td>\n",
       "      <td>-0.042346</td>\n",
       "      <td>-0.021395</td>\n",
       "      <td>-0.076764</td>\n",
       "      <td>-0.009729</td>\n",
       "      <td>-0.042578</td>\n",
       "    </tr>\n",
       "    <tr>\n",
       "      <th>transmission_Manual</th>\n",
       "      <td>-0.530205</td>\n",
       "      <td>0.120226</td>\n",
       "      <td>0.143800</td>\n",
       "      <td>-0.048098</td>\n",
       "      <td>-0.044746</td>\n",
       "      <td>0.024764</td>\n",
       "      <td>0.039614</td>\n",
       "      <td>0.214163</td>\n",
       "      <td>-0.042346</td>\n",
       "      <td>1.000000</td>\n",
       "      <td>0.035597</td>\n",
       "      <td>0.068068</td>\n",
       "      <td>0.009152</td>\n",
       "      <td>0.030802</td>\n",
       "    </tr>\n",
       "    <tr>\n",
       "      <th>owner_Fourth &amp; Above Owner</th>\n",
       "      <td>-0.078725</td>\n",
       "      <td>0.097349</td>\n",
       "      <td>0.186361</td>\n",
       "      <td>-0.021054</td>\n",
       "      <td>-0.002094</td>\n",
       "      <td>0.013384</td>\n",
       "      <td>0.011502</td>\n",
       "      <td>0.072322</td>\n",
       "      <td>-0.021395</td>\n",
       "      <td>0.035597</td>\n",
       "      <td>1.000000</td>\n",
       "      <td>-0.080648</td>\n",
       "      <td>-0.008648</td>\n",
       "      <td>-0.037849</td>\n",
       "    </tr>\n",
       "    <tr>\n",
       "      <th>owner_Second Owner</th>\n",
       "      <td>-0.161986</td>\n",
       "      <td>0.195203</td>\n",
       "      <td>0.292349</td>\n",
       "      <td>0.003524</td>\n",
       "      <td>0.025960</td>\n",
       "      <td>0.030141</td>\n",
       "      <td>-0.012717</td>\n",
       "      <td>0.186573</td>\n",
       "      <td>-0.076764</td>\n",
       "      <td>0.068068</td>\n",
       "      <td>-0.080648</td>\n",
       "      <td>1.000000</td>\n",
       "      <td>-0.036672</td>\n",
       "      <td>-0.160498</td>\n",
       "    </tr>\n",
       "    <tr>\n",
       "      <th>owner_Test Drive Car</th>\n",
       "      <td>0.048799</td>\n",
       "      <td>-0.083445</td>\n",
       "      <td>-0.095795</td>\n",
       "      <td>-0.010575</td>\n",
       "      <td>-0.000952</td>\n",
       "      <td>-0.004577</td>\n",
       "      <td>0.012427</td>\n",
       "      <td>-0.107886</td>\n",
       "      <td>-0.009729</td>\n",
       "      <td>0.009152</td>\n",
       "      <td>-0.008648</td>\n",
       "      <td>-0.036672</td>\n",
       "      <td>1.000000</td>\n",
       "      <td>-0.017210</td>\n",
       "    </tr>\n",
       "    <tr>\n",
       "      <th>owner_Third Owner</th>\n",
       "      <td>-0.111326</td>\n",
       "      <td>0.194713</td>\n",
       "      <td>0.244308</td>\n",
       "      <td>0.009373</td>\n",
       "      <td>-0.004166</td>\n",
       "      <td>0.004836</td>\n",
       "      <td>-0.008502</td>\n",
       "      <td>0.140823</td>\n",
       "      <td>-0.042578</td>\n",
       "      <td>0.030802</td>\n",
       "      <td>-0.037849</td>\n",
       "      <td>-0.160498</td>\n",
       "      <td>-0.017210</td>\n",
       "      <td>1.000000</td>\n",
       "    </tr>\n",
       "  </tbody>\n",
       "</table>\n",
       "</div>"
      ],
      "text/plain": [
       "                              selling_price  km_driven  no_of_years  \\\n",
       "selling_price                      1.000000  -0.192289    -0.413922   \n",
       "km_driven                         -0.192289   1.000000     0.419688   \n",
       "no_of_years                       -0.413922   0.419688     1.000000   \n",
       "fuel_Diesel                        0.282947   0.285396    -0.121424   \n",
       "fuel_Electric                     -0.005095  -0.001372     0.025540   \n",
       "fuel_LPG                          -0.042434   0.036652     0.051266   \n",
       "fuel_Petrol                       -0.269453  -0.291139     0.114908   \n",
       "seller_type_Individual            -0.236798   0.182663     0.173703   \n",
       "seller_type_Trustmark Dealer       0.110176  -0.089858    -0.100225   \n",
       "transmission_Manual               -0.530205   0.120226     0.143800   \n",
       "owner_Fourth & Above Owner        -0.078725   0.097349     0.186361   \n",
       "owner_Second Owner                -0.161986   0.195203     0.292349   \n",
       "owner_Test Drive Car               0.048799  -0.083445    -0.095795   \n",
       "owner_Third Owner                 -0.111326   0.194713     0.244308   \n",
       "\n",
       "                              fuel_Diesel  fuel_Electric  fuel_LPG  \\\n",
       "selling_price                    0.282947      -0.005095 -0.042434   \n",
       "km_driven                        0.285396      -0.001372  0.036652   \n",
       "no_of_years                     -0.121424       0.025540  0.051266   \n",
       "fuel_Diesel                      1.000000      -0.015063 -0.072422   \n",
       "fuel_Electric                   -0.015063       1.000000 -0.001108   \n",
       "fuel_LPG                        -0.072422      -0.001108  1.000000   \n",
       "fuel_Petrol                     -0.970934      -0.014856 -0.071427   \n",
       "seller_type_Individual          -0.035314      -0.026118  0.035122   \n",
       "seller_type_Trustmark Dealer    -0.007911      -0.002355 -0.011324   \n",
       "transmission_Manual             -0.048098      -0.044746  0.024764   \n",
       "owner_Fourth & Above Owner      -0.021054      -0.002094  0.013384   \n",
       "owner_Second Owner               0.003524       0.025960  0.030141   \n",
       "owner_Test Drive Car            -0.010575      -0.000952 -0.004577   \n",
       "owner_Third Owner                0.009373      -0.004166  0.004836   \n",
       "\n",
       "                              fuel_Petrol  seller_type_Individual  \\\n",
       "selling_price                   -0.269453               -0.236798   \n",
       "km_driven                       -0.291139                0.182663   \n",
       "no_of_years                      0.114908                0.173703   \n",
       "fuel_Diesel                     -0.970934               -0.035314   \n",
       "fuel_Electric                   -0.014856               -0.026118   \n",
       "fuel_LPG                        -0.071427                0.035122   \n",
       "fuel_Petrol                      1.000000                0.029845   \n",
       "seller_type_Individual           0.029845                1.000000   \n",
       "seller_type_Trustmark Dealer     0.012489               -0.266904   \n",
       "transmission_Manual              0.039614                0.214163   \n",
       "owner_Fourth & Above Owner       0.011502                0.072322   \n",
       "owner_Second Owner              -0.012717                0.186573   \n",
       "owner_Test Drive Car             0.012427               -0.107886   \n",
       "owner_Third Owner               -0.008502                0.140823   \n",
       "\n",
       "                              seller_type_Trustmark Dealer  \\\n",
       "selling_price                                     0.110176   \n",
       "km_driven                                        -0.089858   \n",
       "no_of_years                                      -0.100225   \n",
       "fuel_Diesel                                      -0.007911   \n",
       "fuel_Electric                                    -0.002355   \n",
       "fuel_LPG                                         -0.011324   \n",
       "fuel_Petrol                                       0.012489   \n",
       "seller_type_Individual                           -0.266904   \n",
       "seller_type_Trustmark Dealer                      1.000000   \n",
       "transmission_Manual                              -0.042346   \n",
       "owner_Fourth & Above Owner                       -0.021395   \n",
       "owner_Second Owner                               -0.076764   \n",
       "owner_Test Drive Car                             -0.009729   \n",
       "owner_Third Owner                                -0.042578   \n",
       "\n",
       "                              transmission_Manual  owner_Fourth & Above Owner  \\\n",
       "selling_price                           -0.530205                   -0.078725   \n",
       "km_driven                                0.120226                    0.097349   \n",
       "no_of_years                              0.143800                    0.186361   \n",
       "fuel_Diesel                             -0.048098                   -0.021054   \n",
       "fuel_Electric                           -0.044746                   -0.002094   \n",
       "fuel_LPG                                 0.024764                    0.013384   \n",
       "fuel_Petrol                              0.039614                    0.011502   \n",
       "seller_type_Individual                   0.214163                    0.072322   \n",
       "seller_type_Trustmark Dealer            -0.042346                   -0.021395   \n",
       "transmission_Manual                      1.000000                    0.035597   \n",
       "owner_Fourth & Above Owner               0.035597                    1.000000   \n",
       "owner_Second Owner                       0.068068                   -0.080648   \n",
       "owner_Test Drive Car                     0.009152                   -0.008648   \n",
       "owner_Third Owner                        0.030802                   -0.037849   \n",
       "\n",
       "                              owner_Second Owner  owner_Test Drive Car  \\\n",
       "selling_price                          -0.161986              0.048799   \n",
       "km_driven                               0.195203             -0.083445   \n",
       "no_of_years                             0.292349             -0.095795   \n",
       "fuel_Diesel                             0.003524             -0.010575   \n",
       "fuel_Electric                           0.025960             -0.000952   \n",
       "fuel_LPG                                0.030141             -0.004577   \n",
       "fuel_Petrol                            -0.012717              0.012427   \n",
       "seller_type_Individual                  0.186573             -0.107886   \n",
       "seller_type_Trustmark Dealer           -0.076764             -0.009729   \n",
       "transmission_Manual                     0.068068              0.009152   \n",
       "owner_Fourth & Above Owner             -0.080648             -0.008648   \n",
       "owner_Second Owner                      1.000000             -0.036672   \n",
       "owner_Test Drive Car                   -0.036672              1.000000   \n",
       "owner_Third Owner                      -0.160498             -0.017210   \n",
       "\n",
       "                              owner_Third Owner  \n",
       "selling_price                         -0.111326  \n",
       "km_driven                              0.194713  \n",
       "no_of_years                            0.244308  \n",
       "fuel_Diesel                            0.009373  \n",
       "fuel_Electric                         -0.004166  \n",
       "fuel_LPG                               0.004836  \n",
       "fuel_Petrol                           -0.008502  \n",
       "seller_type_Individual                 0.140823  \n",
       "seller_type_Trustmark Dealer          -0.042578  \n",
       "transmission_Manual                    0.030802  \n",
       "owner_Fourth & Above Owner            -0.037849  \n",
       "owner_Second Owner                    -0.160498  \n",
       "owner_Test Drive Car                  -0.017210  \n",
       "owner_Third Owner                      1.000000  "
      ]
     },
     "execution_count": 22,
     "metadata": {},
     "output_type": "execute_result"
    }
   ],
   "source": [
    " final_df.corr()"
   ]
  },
  {
   "cell_type": "code",
   "execution_count": 23,
   "metadata": {},
   "outputs": [
    {
     "name": "stderr",
     "output_type": "stream",
     "text": [
      "C:\\Users\\KSK\\Anaconda3\\lib\\site-packages\\statsmodels\\tools\\_testing.py:19: FutureWarning: pandas.util.testing is deprecated. Use the functions in the public API at pandas.testing instead.\n",
      "  import pandas.util.testing as tm\n"
     ]
    }
   ],
   "source": [
    "import seaborn as sns\n",
    "import warnings\n",
    "warnings.filterwarnings('ignore')\n",
    "import matplotlib.pyplot as plt\n",
    "%matplotlib inline"
   ]
  },
  {
   "cell_type": "code",
   "execution_count": 24,
   "metadata": {},
   "outputs": [
    {
     "data": {
      "text/plain": [
       "<matplotlib.axes._subplots.AxesSubplot at 0xa8b3550>"
      ]
     },
     "execution_count": 24,
     "metadata": {},
     "output_type": "execute_result"
    },
    {
     "data": {
      "image/png": "[encoded data removed]",
      "text/plain": [
       "<Figure size 1440x1440 with 2 Axes>"
      ]
     },
     "metadata": {
      "needs_background": "light"
     },
     "output_type": "display_data"
    }
   ],
   "source": [
    "corrmat=final_df.corr()\n",
    "top_corr_features=corrmat.index\n",
    "plt.figure(figsize=(20,20))\n",
    "sns.heatmap(final_df[top_corr_features].corr(),annot=True,cmap='RdYlGn')"
   ]
  },
  {
   "cell_type": "markdown",
   "metadata": {},
   "source": [
    "## seperating dependent and independent features"
   ]
  },
  {
   "cell_type": "code",
   "execution_count": 25,
   "metadata": {},
   "outputs": [],
   "source": [
    "X=final_df.iloc[:,1:]\n",
    "y=final_df.iloc[:,0]"
   ]
  },
  {
   "cell_type": "code",
   "execution_count": 26,
   "metadata": {},
   "outputs": [
    {
     "data": {
      "text/html": [
       "<div>\n",
       "<style scoped>\n",
       "    .dataframe tbody tr th:only-of-type {\n",
       "        vertical-align: middle;\n",
       "    }\n",
       "\n",
       "    .dataframe tbody tr th {\n",
       "        vertical-align: top;\n",
       "    }\n",
       "\n",
       "    .dataframe thead th {\n",
       "        text-align: right;\n",
       "    }\n",
       "</style>\n",
       "<table border=\"1\" class=\"dataframe\">\n",
       "  <thead>\n",
       "    <tr style=\"text-align: right;\">\n",
       "      <th></th>\n",
       "      <th>km_driven</th>\n",
       "      <th>no_of_years</th>\n",
       "      <th>fuel_Diesel</th>\n",
       "      <th>fuel_Electric</th>\n",
       "      <th>fuel_LPG</th>\n",
       "      <th>fuel_Petrol</th>\n",
       "      <th>seller_type_Individual</th>\n",
       "      <th>seller_type_Trustmark Dealer</th>\n",
       "      <th>transmission_Manual</th>\n",
       "      <th>owner_Fourth &amp; Above Owner</th>\n",
       "      <th>owner_Second Owner</th>\n",
       "      <th>owner_Test Drive Car</th>\n",
       "      <th>owner_Third Owner</th>\n",
       "    </tr>\n",
       "  </thead>\n",
       "  <tbody>\n",
       "    <tr>\n",
       "      <th>0</th>\n",
       "      <td>70000</td>\n",
       "      <td>13</td>\n",
       "      <td>0</td>\n",
       "      <td>0</td>\n",
       "      <td>0</td>\n",
       "      <td>1</td>\n",
       "      <td>1</td>\n",
       "      <td>0</td>\n",
       "      <td>1</td>\n",
       "      <td>0</td>\n",
       "      <td>0</td>\n",
       "      <td>0</td>\n",
       "      <td>0</td>\n",
       "    </tr>\n",
       "    <tr>\n",
       "      <th>1</th>\n",
       "      <td>50000</td>\n",
       "      <td>13</td>\n",
       "      <td>0</td>\n",
       "      <td>0</td>\n",
       "      <td>0</td>\n",
       "      <td>1</td>\n",
       "      <td>1</td>\n",
       "      <td>0</td>\n",
       "      <td>1</td>\n",
       "      <td>0</td>\n",
       "      <td>0</td>\n",
       "      <td>0</td>\n",
       "      <td>0</td>\n",
       "    </tr>\n",
       "    <tr>\n",
       "      <th>2</th>\n",
       "      <td>100000</td>\n",
       "      <td>8</td>\n",
       "      <td>1</td>\n",
       "      <td>0</td>\n",
       "      <td>0</td>\n",
       "      <td>0</td>\n",
       "      <td>1</td>\n",
       "      <td>0</td>\n",
       "      <td>1</td>\n",
       "      <td>0</td>\n",
       "      <td>0</td>\n",
       "      <td>0</td>\n",
       "      <td>0</td>\n",
       "    </tr>\n",
       "    <tr>\n",
       "      <th>3</th>\n",
       "      <td>46000</td>\n",
       "      <td>3</td>\n",
       "      <td>0</td>\n",
       "      <td>0</td>\n",
       "      <td>0</td>\n",
       "      <td>1</td>\n",
       "      <td>1</td>\n",
       "      <td>0</td>\n",
       "      <td>1</td>\n",
       "      <td>0</td>\n",
       "      <td>0</td>\n",
       "      <td>0</td>\n",
       "      <td>0</td>\n",
       "    </tr>\n",
       "    <tr>\n",
       "      <th>4</th>\n",
       "      <td>141000</td>\n",
       "      <td>6</td>\n",
       "      <td>1</td>\n",
       "      <td>0</td>\n",
       "      <td>0</td>\n",
       "      <td>0</td>\n",
       "      <td>1</td>\n",
       "      <td>0</td>\n",
       "      <td>1</td>\n",
       "      <td>0</td>\n",
       "      <td>1</td>\n",
       "      <td>0</td>\n",
       "      <td>0</td>\n",
       "    </tr>\n",
       "  </tbody>\n",
       "</table>\n",
       "</div>"
      ],
      "text/plain": [
       "   km_driven  no_of_years  fuel_Diesel  fuel_Electric  fuel_LPG  fuel_Petrol  \\\n",
       "0      70000           13            0              0         0            1   \n",
       "1      50000           13            0              0         0            1   \n",
       "2     100000            8            1              0         0            0   \n",
       "3      46000            3            0              0         0            1   \n",
       "4     141000            6            1              0         0            0   \n",
       "\n",
       "   seller_type_Individual  seller_type_Trustmark Dealer  transmission_Manual  \\\n",
       "0                       1                             0                    1   \n",
       "1                       1                             0                    1   \n",
       "2                       1                             0                    1   \n",
       "3                       1                             0                    1   \n",
       "4                       1                             0                    1   \n",
       "\n",
       "   owner_Fourth & Above Owner  owner_Second Owner  owner_Test Drive Car  \\\n",
       "0                           0                   0                     0   \n",
       "1                           0                   0                     0   \n",
       "2                           0                   0                     0   \n",
       "3                           0                   0                     0   \n",
       "4                           0                   1                     0   \n",
       "\n",
       "   owner_Third Owner  \n",
       "0                  0  \n",
       "1                  0  \n",
       "2                  0  \n",
       "3                  0  \n",
       "4                  0  "
      ]
     },
     "execution_count": 26,
     "metadata": {},
     "output_type": "execute_result"
    }
   ],
   "source": [
    "X.head()"
   ]
  },
  {
   "cell_type": "code",
   "execution_count": 27,
   "metadata": {},
   "outputs": [
    {
     "data": {
      "text/plain": [
       "0     60000\n",
       "1    135000\n",
       "2    600000\n",
       "3    250000\n",
       "4    450000\n",
       "Name: selling_price, dtype: int64"
      ]
     },
     "execution_count": 27,
     "metadata": {},
     "output_type": "execute_result"
    }
   ],
   "source": [
    "y.head()"
   ]
  },
  {
   "cell_type": "markdown",
   "metadata": {},
   "source": [
    "## feature importnace"
   ]
  },
  {
   "cell_type": "code",
   "execution_count": 28,
   "metadata": {},
   "outputs": [
    {
     "data": {
      "text/plain": [
       "ExtraTreesRegressor()"
      ]
     },
     "execution_count": 28,
     "metadata": {},
     "output_type": "execute_result"
    }
   ],
   "source": [
    "from sklearn.ensemble import ExtraTreesRegressor\n",
    "model=ExtraTreesRegressor()\n",
    "model.fit(X,y)"
   ]
  },
  {
   "cell_type": "code",
   "execution_count": 29,
   "metadata": {},
   "outputs": [
    {
     "name": "stdout",
     "output_type": "stream",
     "text": [
      "[2.46274798e-01 2.46405405e-01 1.29987732e-01 3.60295654e-05\n",
      " 2.57140556e-05 2.12815491e-04 4.76642778e-02 8.77957548e-03\n",
      " 2.92840285e-01 8.24868345e-04 2.20008808e-02 7.76383785e-04\n",
      " 4.17123464e-03]\n"
     ]
    }
   ],
   "source": [
    "print(model.feature_importances_)"
   ]
  },
  {
   "cell_type": "markdown",
   "metadata": {},
   "source": [
    "## visualization of feature importnace"
   ]
  },
  {
   "cell_type": "code",
   "execution_count": 30,
   "metadata": {},
   "outputs": [
    {
     "data": {
      "image/png": "[encoded data removed]",
      "text/plain": [
       "<Figure size 432x288 with 1 Axes>"
      ]
     },
     "metadata": {
      "needs_background": "light"
     },
     "output_type": "display_data"
    }
   ],
   "source": [
    "feat_importance=pd.Series(model.feature_importances_,index=X.columns)\n",
    "feat_importance.nlargest(5).plot(kind='barh')\n",
    "plt.show()"
   ]
  },
  {
   "cell_type": "markdown",
   "metadata": {},
   "source": [
    "## train test split"
   ]
  },
  {
   "cell_type": "code",
   "execution_count": 31,
   "metadata": {},
   "outputs": [],
   "source": [
    "from sklearn.model_selection import train_test_split"
   ]
  },
  {
   "cell_type": "code",
   "execution_count": 32,
   "metadata": {},
   "outputs": [],
   "source": [
    "X_train,X_test,y_train,y_test=train_test_split(X,y,test_size=0.2)"
   ]
  },
  {
   "cell_type": "code",
   "execution_count": 33,
   "metadata": {},
   "outputs": [
    {
     "data": {
      "text/plain": [
       "(3472, 13)"
      ]
     },
     "execution_count": 33,
     "metadata": {},
     "output_type": "execute_result"
    }
   ],
   "source": [
    "X_train.shape"
   ]
  },
  {
   "cell_type": "markdown",
   "metadata": {},
   "source": [
    "## model building"
   ]
  },
  {
   "cell_type": "code",
   "execution_count": 34,
   "metadata": {},
   "outputs": [],
   "source": [
    "from sklearn.ensemble import RandomForestRegressor\n",
    "rf_random=RandomForestRegressor()"
   ]
  },
  {
   "cell_type": "markdown",
   "metadata": {},
   "source": [
    "## hyperparameters"
   ]
  },
  {
   "cell_type": "code",
   "execution_count": 35,
   "metadata": {},
   "outputs": [
    {
     "name": "stdout",
     "output_type": "stream",
     "text": [
      "[100, 200, 300, 400, 500, 600, 700, 800, 900, 1000, 1100, 1200]\n"
     ]
    }
   ],
   "source": [
    "import numpy as np\n",
    "n_estimators=[int(x) for x in np.linspace(start=100,stop=1200,num=12)]\n",
    "print(n_estimators)"
   ]
  },
  {
   "cell_type": "code",
   "execution_count": 40,
   "metadata": {},
   "outputs": [],
   "source": [
    "from sklearn.model_selection import RandomizedSearchCV"
   ]
  },
  {
   "cell_type": "code",
   "execution_count": 36,
   "metadata": {},
   "outputs": [],
   "source": [
    "# RAndomized_search_cv\n",
    "\n",
    "# number of trees in  random forest\n",
    "n_estimators=[int(x) for x in np.linspace(start=100,stop=1200,num=12)]\n",
    "# number of features to consider at every split\n",
    "max_features=['auto','sqrt']\n",
    "#maximum_level_of_trees\n",
    "max_depth=[int(x) for x in np.linspace(5,30,num=6)]\n",
    "#minimum_number_of_samples_required-to-split a node\n",
    "min_samples_split=[2,5,10,15,100]\n",
    "# miniumum number of samples required at each leaf node\n",
    "min_samples_leaf=[1,2,5,10]"
   ]
  },
  {
   "cell_type": "code",
   "execution_count": 37,
   "metadata": {},
   "outputs": [],
   "source": [
    "## create the random grid "
   ]
  },
  {
   "cell_type": "code",
   "execution_count": 38,
   "metadata": {},
   "outputs": [
    {
     "name": "stdout",
     "output_type": "stream",
     "text": [
      "{'n_estimators': [100, 200, 300, 400, 500, 600, 700, 800, 900, 1000, 1100, 1200], 'max_features': ['auto', 'sqrt'], 'max_depth': [5, 10, 15, 20, 25, 30], 'min_samples_split': [2, 5, 10, 15, 100], 'min_samples_leaf': [1, 2, 5, 10]}\n"
     ]
    }
   ],
   "source": [
    "random_grid={'n_estimators':n_estimators,'max_features':max_features,'max_depth':max_depth,'min_samples_split':min_samples_split,'min_samples_leaf':min_samples_leaf}\n",
    "print(random_grid)"
   ]
  },
  {
   "cell_type": "code",
   "execution_count": 39,
   "metadata": {},
   "outputs": [],
   "source": [
    "rf=RandomForestRegressor()"
   ]
  },
  {
   "cell_type": "code",
   "execution_count": 42,
   "metadata": {},
   "outputs": [],
   "source": [
    "rf_random=RandomizedSearchCV(estimator=rf,param_distributions=random_grid,scoring='neg_mean_squared_error',n_iter=10,cv=5,verbose=2,random_state=42,n_jobs=1)"
   ]
  },
  {
   "cell_type": "code",
   "execution_count": 43,
   "metadata": {},
   "outputs": [
    {
     "name": "stdout",
     "output_type": "stream",
     "text": [
      "Fitting 5 folds for each of 10 candidates, totalling 50 fits\n",
      "[CV] n_estimators=900, min_samples_split=5, min_samples_leaf=5, max_features=sqrt, max_depth=10 \n"
     ]
    },
    {
     "name": "stderr",
     "output_type": "stream",
     "text": [
      "[Parallel(n_jobs=1)]: Using backend SequentialBackend with 1 concurrent workers.\n"
     ]
    },
    {
     "name": "stdout",
     "output_type": "stream",
     "text": [
      "[CV]  n_estimators=900, min_samples_split=5, min_samples_leaf=5, max_features=sqrt, max_depth=10, total=   1.6s\n",
      "[CV] n_estimators=900, min_samples_split=5, min_samples_leaf=5, max_features=sqrt, max_depth=10 \n"
     ]
    },
    {
     "name": "stderr",
     "output_type": "stream",
     "text": [
      "[Parallel(n_jobs=1)]: Done   1 out of   1 | elapsed:    1.5s remaining:    0.0s\n"
     ]
    },
    {
     "name": "stdout",
     "output_type": "stream",
     "text": [
      "[CV]  n_estimators=900, min_samples_split=5, min_samples_leaf=5, max_features=sqrt, max_depth=10, total=   1.5s\n",
      "[CV] n_estimators=900, min_samples_split=5, min_samples_leaf=5, max_features=sqrt, max_depth=10 \n",
      "[CV]  n_estimators=900, min_samples_split=5, min_samples_leaf=5, max_features=sqrt, max_depth=10, total=   1.5s\n",
      "[CV] n_estimators=900, min_samples_split=5, min_samples_leaf=5, max_features=sqrt, max_depth=10 \n",
      "[CV]  n_estimators=900, min_samples_split=5, min_samples_leaf=5, max_features=sqrt, max_depth=10, total=   1.6s\n",
      "[CV] n_estimators=900, min_samples_split=5, min_samples_leaf=5, max_features=sqrt, max_depth=10 \n",
      "[CV]  n_estimators=900, min_samples_split=5, min_samples_leaf=5, max_features=sqrt, max_depth=10, total=   1.5s\n",
      "[CV] n_estimators=1100, min_samples_split=10, min_samples_leaf=2, max_features=sqrt, max_depth=15 \n",
      "[CV]  n_estimators=1100, min_samples_split=10, min_samples_leaf=2, max_features=sqrt, max_depth=15, total=   2.2s\n",
      "[CV] n_estimators=1100, min_samples_split=10, min_samples_leaf=2, max_features=sqrt, max_depth=15 \n",
      "[CV]  n_estimators=1100, min_samples_split=10, min_samples_leaf=2, max_features=sqrt, max_depth=15, total=   2.3s\n",
      "[CV] n_estimators=1100, min_samples_split=10, min_samples_leaf=2, max_features=sqrt, max_depth=15 \n",
      "[CV]  n_estimators=1100, min_samples_split=10, min_samples_leaf=2, max_features=sqrt, max_depth=15, total=   2.2s\n",
      "[CV] n_estimators=1100, min_samples_split=10, min_samples_leaf=2, max_features=sqrt, max_depth=15 \n",
      "[CV]  n_estimators=1100, min_samples_split=10, min_samples_leaf=2, max_features=sqrt, max_depth=15, total=   2.4s\n",
      "[CV] n_estimators=1100, min_samples_split=10, min_samples_leaf=2, max_features=sqrt, max_depth=15 \n",
      "[CV]  n_estimators=1100, min_samples_split=10, min_samples_leaf=2, max_features=sqrt, max_depth=15, total=   2.2s\n",
      "[CV] n_estimators=300, min_samples_split=100, min_samples_leaf=5, max_features=auto, max_depth=15 \n",
      "[CV]  n_estimators=300, min_samples_split=100, min_samples_leaf=5, max_features=auto, max_depth=15, total=   0.7s\n",
      "[CV] n_estimators=300, min_samples_split=100, min_samples_leaf=5, max_features=auto, max_depth=15 \n",
      "[CV]  n_estimators=300, min_samples_split=100, min_samples_leaf=5, max_features=auto, max_depth=15, total=   0.8s\n",
      "[CV] n_estimators=300, min_samples_split=100, min_samples_leaf=5, max_features=auto, max_depth=15 \n",
      "[CV]  n_estimators=300, min_samples_split=100, min_samples_leaf=5, max_features=auto, max_depth=15, total=   0.8s\n",
      "[CV] n_estimators=300, min_samples_split=100, min_samples_leaf=5, max_features=auto, max_depth=15 \n",
      "[CV]  n_estimators=300, min_samples_split=100, min_samples_leaf=5, max_features=auto, max_depth=15, total=   0.7s\n",
      "[CV] n_estimators=300, min_samples_split=100, min_samples_leaf=5, max_features=auto, max_depth=15 \n",
      "[CV]  n_estimators=300, min_samples_split=100, min_samples_leaf=5, max_features=auto, max_depth=15, total=   0.8s\n",
      "[CV] n_estimators=400, min_samples_split=5, min_samples_leaf=5, max_features=auto, max_depth=15 \n",
      "[CV]  n_estimators=400, min_samples_split=5, min_samples_leaf=5, max_features=auto, max_depth=15, total=   1.4s\n",
      "[CV] n_estimators=400, min_samples_split=5, min_samples_leaf=5, max_features=auto, max_depth=15 \n",
      "[CV]  n_estimators=400, min_samples_split=5, min_samples_leaf=5, max_features=auto, max_depth=15, total=   1.4s\n",
      "[CV] n_estimators=400, min_samples_split=5, min_samples_leaf=5, max_features=auto, max_depth=15 \n",
      "[CV]  n_estimators=400, min_samples_split=5, min_samples_leaf=5, max_features=auto, max_depth=15, total=   1.5s\n",
      "[CV] n_estimators=400, min_samples_split=5, min_samples_leaf=5, max_features=auto, max_depth=15 \n",
      "[CV]  n_estimators=400, min_samples_split=5, min_samples_leaf=5, max_features=auto, max_depth=15, total=   1.5s\n",
      "[CV] n_estimators=400, min_samples_split=5, min_samples_leaf=5, max_features=auto, max_depth=15 \n",
      "[CV]  n_estimators=400, min_samples_split=5, min_samples_leaf=5, max_features=auto, max_depth=15, total=   1.4s\n",
      "[CV] n_estimators=700, min_samples_split=5, min_samples_leaf=10, max_features=auto, max_depth=20 \n",
      "[CV]  n_estimators=700, min_samples_split=5, min_samples_leaf=10, max_features=auto, max_depth=20, total=   2.3s\n",
      "[CV] n_estimators=700, min_samples_split=5, min_samples_leaf=10, max_features=auto, max_depth=20 \n",
      "[CV]  n_estimators=700, min_samples_split=5, min_samples_leaf=10, max_features=auto, max_depth=20, total=   2.2s\n",
      "[CV] n_estimators=700, min_samples_split=5, min_samples_leaf=10, max_features=auto, max_depth=20 \n",
      "[CV]  n_estimators=700, min_samples_split=5, min_samples_leaf=10, max_features=auto, max_depth=20, total=   3.3s\n",
      "[CV] n_estimators=700, min_samples_split=5, min_samples_leaf=10, max_features=auto, max_depth=20 \n",
      "[CV]  n_estimators=700, min_samples_split=5, min_samples_leaf=10, max_features=auto, max_depth=20, total=   2.7s\n",
      "[CV] n_estimators=700, min_samples_split=5, min_samples_leaf=10, max_features=auto, max_depth=20 \n",
      "[CV]  n_estimators=700, min_samples_split=5, min_samples_leaf=10, max_features=auto, max_depth=20, total=   2.9s\n",
      "[CV] n_estimators=1000, min_samples_split=2, min_samples_leaf=1, max_features=sqrt, max_depth=25 \n",
      "[CV]  n_estimators=1000, min_samples_split=2, min_samples_leaf=1, max_features=sqrt, max_depth=25, total=   4.4s\n",
      "[CV] n_estimators=1000, min_samples_split=2, min_samples_leaf=1, max_features=sqrt, max_depth=25 \n",
      "[CV]  n_estimators=1000, min_samples_split=2, min_samples_leaf=1, max_features=sqrt, max_depth=25, total=   4.2s\n",
      "[CV] n_estimators=1000, min_samples_split=2, min_samples_leaf=1, max_features=sqrt, max_depth=25 \n",
      "[CV]  n_estimators=1000, min_samples_split=2, min_samples_leaf=1, max_features=sqrt, max_depth=25, total=   4.3s\n",
      "[CV] n_estimators=1000, min_samples_split=2, min_samples_leaf=1, max_features=sqrt, max_depth=25 \n",
      "[CV]  n_estimators=1000, min_samples_split=2, min_samples_leaf=1, max_features=sqrt, max_depth=25, total=   4.3s\n",
      "[CV] n_estimators=1000, min_samples_split=2, min_samples_leaf=1, max_features=sqrt, max_depth=25 \n",
      "[CV]  n_estimators=1000, min_samples_split=2, min_samples_leaf=1, max_features=sqrt, max_depth=25, total=   4.4s\n",
      "[CV] n_estimators=1100, min_samples_split=15, min_samples_leaf=10, max_features=sqrt, max_depth=5 \n",
      "[CV]  n_estimators=1100, min_samples_split=15, min_samples_leaf=10, max_features=sqrt, max_depth=5, total=   1.8s\n",
      "[CV] n_estimators=1100, min_samples_split=15, min_samples_leaf=10, max_features=sqrt, max_depth=5 \n",
      "[CV]  n_estimators=1100, min_samples_split=15, min_samples_leaf=10, max_features=sqrt, max_depth=5, total=   1.8s\n",
      "[CV] n_estimators=1100, min_samples_split=15, min_samples_leaf=10, max_features=sqrt, max_depth=5 \n",
      "[CV]  n_estimators=1100, min_samples_split=15, min_samples_leaf=10, max_features=sqrt, max_depth=5, total=   1.8s\n",
      "[CV] n_estimators=1100, min_samples_split=15, min_samples_leaf=10, max_features=sqrt, max_depth=5 \n",
      "[CV]  n_estimators=1100, min_samples_split=15, min_samples_leaf=10, max_features=sqrt, max_depth=5, total=   1.7s\n",
      "[CV] n_estimators=1100, min_samples_split=15, min_samples_leaf=10, max_features=sqrt, max_depth=5 \n",
      "[CV]  n_estimators=1100, min_samples_split=15, min_samples_leaf=10, max_features=sqrt, max_depth=5, total=   1.9s\n",
      "[CV] n_estimators=300, min_samples_split=15, min_samples_leaf=1, max_features=sqrt, max_depth=15 \n",
      "[CV]  n_estimators=300, min_samples_split=15, min_samples_leaf=1, max_features=sqrt, max_depth=15, total=   0.8s\n",
      "[CV] n_estimators=300, min_samples_split=15, min_samples_leaf=1, max_features=sqrt, max_depth=15 \n",
      "[CV]  n_estimators=300, min_samples_split=15, min_samples_leaf=1, max_features=sqrt, max_depth=15, total=   0.8s\n",
      "[CV] n_estimators=300, min_samples_split=15, min_samples_leaf=1, max_features=sqrt, max_depth=15 \n",
      "[CV]  n_estimators=300, min_samples_split=15, min_samples_leaf=1, max_features=sqrt, max_depth=15, total=   0.8s\n",
      "[CV] n_estimators=300, min_samples_split=15, min_samples_leaf=1, max_features=sqrt, max_depth=15 \n",
      "[CV]  n_estimators=300, min_samples_split=15, min_samples_leaf=1, max_features=sqrt, max_depth=15, total=   0.8s\n",
      "[CV] n_estimators=300, min_samples_split=15, min_samples_leaf=1, max_features=sqrt, max_depth=15 \n",
      "[CV]  n_estimators=300, min_samples_split=15, min_samples_leaf=1, max_features=sqrt, max_depth=15, total=   0.8s\n",
      "[CV] n_estimators=700, min_samples_split=10, min_samples_leaf=2, max_features=sqrt, max_depth=5 \n"
     ]
    },
    {
     "name": "stdout",
     "output_type": "stream",
     "text": [
      "[CV]  n_estimators=700, min_samples_split=10, min_samples_leaf=2, max_features=sqrt, max_depth=5, total=   1.2s\n",
      "[CV] n_estimators=700, min_samples_split=10, min_samples_leaf=2, max_features=sqrt, max_depth=5 \n",
      "[CV]  n_estimators=700, min_samples_split=10, min_samples_leaf=2, max_features=sqrt, max_depth=5, total=   1.2s\n",
      "[CV] n_estimators=700, min_samples_split=10, min_samples_leaf=2, max_features=sqrt, max_depth=5 \n",
      "[CV]  n_estimators=700, min_samples_split=10, min_samples_leaf=2, max_features=sqrt, max_depth=5, total=   1.1s\n",
      "[CV] n_estimators=700, min_samples_split=10, min_samples_leaf=2, max_features=sqrt, max_depth=5 \n",
      "[CV]  n_estimators=700, min_samples_split=10, min_samples_leaf=2, max_features=sqrt, max_depth=5, total=   1.1s\n",
      "[CV] n_estimators=700, min_samples_split=10, min_samples_leaf=2, max_features=sqrt, max_depth=5 \n",
      "[CV]  n_estimators=700, min_samples_split=10, min_samples_leaf=2, max_features=sqrt, max_depth=5, total=   1.1s\n",
      "[CV] n_estimators=700, min_samples_split=15, min_samples_leaf=1, max_features=auto, max_depth=20 \n",
      "[CV]  n_estimators=700, min_samples_split=15, min_samples_leaf=1, max_features=auto, max_depth=20, total=   3.2s\n",
      "[CV] n_estimators=700, min_samples_split=15, min_samples_leaf=1, max_features=auto, max_depth=20 \n",
      "[CV]  n_estimators=700, min_samples_split=15, min_samples_leaf=1, max_features=auto, max_depth=20, total=   3.0s\n",
      "[CV] n_estimators=700, min_samples_split=15, min_samples_leaf=1, max_features=auto, max_depth=20 \n",
      "[CV]  n_estimators=700, min_samples_split=15, min_samples_leaf=1, max_features=auto, max_depth=20, total=   3.0s\n",
      "[CV] n_estimators=700, min_samples_split=15, min_samples_leaf=1, max_features=auto, max_depth=20 \n",
      "[CV]  n_estimators=700, min_samples_split=15, min_samples_leaf=1, max_features=auto, max_depth=20, total=   3.3s\n",
      "[CV] n_estimators=700, min_samples_split=15, min_samples_leaf=1, max_features=auto, max_depth=20 \n",
      "[CV]  n_estimators=700, min_samples_split=15, min_samples_leaf=1, max_features=auto, max_depth=20, total=   3.1s\n"
     ]
    },
    {
     "name": "stderr",
     "output_type": "stream",
     "text": [
      "[Parallel(n_jobs=1)]: Done  50 out of  50 | elapsed:  1.7min finished\n"
     ]
    },
    {
     "data": {
      "text/plain": [
       "RandomizedSearchCV(cv=5, estimator=RandomForestRegressor(), n_jobs=1,\n",
       "                   param_distributions={'max_depth': [5, 10, 15, 20, 25, 30],\n",
       "                                        'max_features': ['auto', 'sqrt'],\n",
       "                                        'min_samples_leaf': [1, 2, 5, 10],\n",
       "                                        'min_samples_split': [2, 5, 10, 15,\n",
       "                                                              100],\n",
       "                                        'n_estimators': [100, 200, 300, 400,\n",
       "                                                         500, 600, 700, 800,\n",
       "                                                         900, 1000, 1100,\n",
       "                                                         1200]},\n",
       "                   random_state=42, scoring='neg_mean_squared_error',\n",
       "                   verbose=2)"
      ]
     },
     "execution_count": 43,
     "metadata": {},
     "output_type": "execute_result"
    }
   ],
   "source": [
    "rf_random.fit(X_train,y_train)"
   ]
  },
  {
   "cell_type": "code",
   "execution_count": 44,
   "metadata": {},
   "outputs": [],
   "source": [
    "predictions=rf_random.predict(X_test)"
   ]
  },
  {
   "cell_type": "code",
   "execution_count": 45,
   "metadata": {},
   "outputs": [
    {
     "data": {
      "text/plain": [
       "array([ 234681.79516267,  237133.80679809,  286297.17292087,\n",
       "        289596.55716501,  422895.69619988,  558085.33559694,\n",
       "        324336.3972482 , 1645019.131388  ,  709311.48657034,\n",
       "        414683.14976659,  945386.21217763,  580455.61572482,\n",
       "        418323.17999493,  431832.38938517,  581817.59610147,\n",
       "        231384.6267405 ,  498825.16306325,  699595.62125302,\n",
       "        458626.27017486,  307031.3268915 ,  988236.88136232,\n",
       "       1194040.91812663,  103746.77526165,  197634.31692213,\n",
       "        307740.01386803,  463204.87067222, 1579166.19982512,\n",
       "        336345.66776164,  769908.53251093,  531978.38458806,\n",
       "       1354219.40658424,  415179.67485347,  642617.05718099,\n",
       "        407140.65253444,  580455.61572482,  642961.60580453,\n",
       "        485591.05769175,  130740.51273358,  731759.80047328,\n",
       "       1027417.02878964,  710673.37624481,  469106.41714967,\n",
       "        176344.53459103,  207350.17672218, 1457563.0192936 ,\n",
       "        480154.20303909,  324336.3972482 ,  633215.9713858 ,\n",
       "        539329.10442866,  617348.19895016,  496907.49949038,\n",
       "        249119.88983387,  540328.16380974,  453209.67661203,\n",
       "        481413.51827137,  223502.15219304,  685433.7297894 ,\n",
       "        495567.84405244,  342127.00254558, 1224900.10782145,\n",
       "        491658.31794939,  368182.28383041,  272521.35484129,\n",
       "        214013.08064824,  435385.45757425, 1357138.14583446,\n",
       "        200253.62864674,  674349.21689037,  286297.17292087,\n",
       "        775002.74788355,  430078.09638243,  259594.92162375,\n",
       "         84282.86779043,  259662.88479994,  431084.50665006,\n",
       "       2178650.5973595 ,  367331.77257415, 1160132.73161784,\n",
       "        346179.45207816,  729698.23953228,  313254.50898251,\n",
       "        662105.61632454,  408620.29768503,  896689.12328795,\n",
       "        570121.9330508 ,  424311.0797789 ,  445577.92957376,\n",
       "        284283.60448557, 1457563.0192936 ,  630757.85694264,\n",
       "        944121.83181295,  435350.79699978,  635491.11013424,\n",
       "        296427.97491507,  314502.62934899,  347406.19669981,\n",
       "        296108.97503047,  288229.06520788,   88207.97459238,\n",
       "        650089.45730277,  609223.18240244,  930441.31923291,\n",
       "        610623.7457827 ,  122598.70823703,  689107.13681901,\n",
       "        530500.0353094 ,  409200.63238851,  535640.34004604,\n",
       "        184605.43229903,  336814.53115481,  424573.58388592,\n",
       "        432452.86144644,  170197.85359134,  380552.82086203,\n",
       "        302937.43387477,  276122.32059928,  375272.74823481,\n",
       "        920118.9579752 ,  593792.93254231,  502407.01884357,\n",
       "        494259.35294713,  465972.01463086,  507566.54682586,\n",
       "        808005.23120876,  182617.7451297 ,  171842.52540921,\n",
       "        180409.64616299, 2300532.60436785,  592025.66306881,\n",
       "        429515.29625968,  186118.88714779,  352151.38423546,\n",
       "        291162.64119402,  312105.01681885,  334893.1361363 ,\n",
       "        358513.44491505,  424573.58388592,  639308.61138347,\n",
       "        365276.16870304,  516663.98581568,  108435.20335874,\n",
       "       1428412.58948245,  750881.54474854,  437815.76361629,\n",
       "        530267.66659781,  423897.18634729,  137934.96340428,\n",
       "        593584.67231739, 1066647.38579224,  777698.93492318,\n",
       "        193644.32707909,  632315.21146707, 1524361.60195475,\n",
       "        392104.93786069,  665848.92290617,  160696.92963038,\n",
       "        357761.05986507,  699595.62125302,  869084.4691135 ,\n",
       "        218949.43651697,  317580.64535559,  366372.27541294,\n",
       "       1387023.63989213,  894520.51266459,  299430.35474588,\n",
       "        842181.51899412, 1372608.4442713 ,  116584.52696214,\n",
       "        267886.7842964 ,  634121.15130616,  431171.26075649,\n",
       "       1224900.10782145,  418668.06851141,  802759.36023791,\n",
       "        249119.88983387,  699595.62125302,  299864.86141388,\n",
       "        504287.44033719,  227620.51576618,  424799.00360469,\n",
       "        384949.22676146,  433015.36285098,  232145.38822359,\n",
       "         87263.28748183,  613677.78528351,  200878.15605747,\n",
       "        593584.67231739,  964992.82097366,  274728.04255354,\n",
       "        693778.432488  ,  129706.35262085,  592711.62592501,\n",
       "        412679.8547823 ,  204997.40714019,  448064.70547828,\n",
       "        210046.09116676,  165164.2222528 ,  226005.66749737,\n",
       "        355017.11034704,  710673.37624481,  298330.66738772,\n",
       "        215963.67738566,  722255.16959874,  262457.23642785,\n",
       "        513163.70672099, 1793566.33921895,  291162.64119402,\n",
       "        988236.88136232,  214601.97681577,  275118.90695034,\n",
       "        689107.13681901,  365276.16870304,  252331.1599629 ,\n",
       "        230577.76571385, 1635094.74936705,  808005.23120876,\n",
       "        227117.71039498,  185408.39911431, 1868603.2145616 ,\n",
       "        227164.23266138,  405850.74288329, 1337208.90797893,\n",
       "        381855.33226635,  988309.8501808 ,  699595.62125302,\n",
       "        563898.21813833,  383680.25599986,  425335.6772938 ,\n",
       "        894755.76847567,  679844.04653057,  593584.67231739,\n",
       "        312172.14580919, 1115240.20305248,  767167.11657839,\n",
       "        530835.03587661,  176344.53459103,  398966.93808138,\n",
       "        212804.82917543,  708511.74122127,  256185.84914923,\n",
       "        510944.4226063 ,  510749.78325832, 1071894.16148072,\n",
       "        680515.22903079,  193644.32707909,  124938.54107246,\n",
       "        310829.19551935,  415433.09586235,  502407.01884357,\n",
       "        441458.24546802,  480966.8873462 ,  651197.43420764,\n",
       "        307475.97147546,  251245.45128559,  675890.59421944,\n",
       "        164762.89286862,  228588.45254956,  465587.3137821 ,\n",
       "        708511.74122127,  233912.45727326,  114734.59503556,\n",
       "        335122.86717279,  501220.25810871,  487304.69763286,\n",
       "        259343.81559937,  524888.33086994,  990933.44945479,\n",
       "        531835.50177093,  718067.05455849, 1149049.40798266,\n",
       "        663610.80587772,  172024.24032237,  393238.97524116,\n",
       "        105726.49311195,  227473.96004752,  775740.34981262,\n",
       "        103347.46621639,  609223.18240244,  321966.13931416,\n",
       "        364696.05795593,  278179.30392789,  307031.3268915 ,\n",
       "        177163.76251529,  234681.79516267,  407851.32497598,\n",
       "        192995.59745397,  645700.78528111,  226005.66749737,\n",
       "        310153.07362187, 1457563.0192936 ,  404631.88676258,\n",
       "        109439.20394218,  484773.55347596,  317580.64535559,\n",
       "        299780.35990738,  411910.98333379,   87669.09475332,\n",
       "        126321.77806483,  431832.38938517,  292427.51319144,\n",
       "        422118.3526756 ,  302701.92972236,  731650.71860551,\n",
       "        265456.39628325,   88106.50561464,  430078.09638243,\n",
       "        446891.7389893 ,  278179.30392789,  399949.01590783,\n",
       "        275118.90695034,  355962.86599288,  341821.16924821,\n",
       "        142378.2041041 ,  221462.37731055,  964445.41339954,\n",
       "       1758787.78136901, 1141628.1231733 ,  642617.05718099,\n",
       "        430078.09638243,  408532.43054113,  422895.69619988,\n",
       "       1137797.79075647,  415433.09586235,  176344.53459103,\n",
       "        413895.23054473,  175635.75113548,   91349.306513  ,\n",
       "        318675.34349919,  334806.11647914,  552768.32050309,\n",
       "        283654.81151569,  430719.15376779,  437452.40526922,\n",
       "        769264.50700042, 2527628.62938988,   89293.60959711,\n",
       "        120327.23565969,  129706.35262085,  338520.17923411,\n",
       "        236250.40266552,  276605.28843698,  257243.95113286,\n",
       "        236229.55616137,  431832.38938517,  329314.16390022,\n",
       "        108570.4530493 ,  815248.90716848,  429515.29625968,\n",
       "        108536.74274787,  431832.38938517, 1354219.40658424,\n",
       "        318918.57326513,  203644.75678171,  302820.3127988 ,\n",
       "        771004.23700382,  279703.72128621,  509989.17671058,\n",
       "       2006705.81991562,  864986.55781335,  618460.58138134,\n",
       "       2300532.60436785,  241117.89515483,  279247.54221206,\n",
       "        259343.81559937,  302937.43387477,  113864.53025887,\n",
       "        230577.76571385,  123161.5640114 ,  423679.73458588,\n",
       "        448064.70547828,  293628.35613039,  529595.89560715,\n",
       "        288698.62644706, 2300532.60436785,  334021.80173586,\n",
       "        402635.74352214,  665824.30844034,  220407.49146078,\n",
       "        252135.18642677,  541545.65250333,  120655.87748786,\n",
       "        309586.65496292,  254271.91825871,  558267.65442491,\n",
       "        335379.11212798,  769264.50700042,  288758.48991795,\n",
       "        224634.69227269,  900136.36762979,  655534.85208113,\n",
       "        431832.38938517,  249119.88983387,  415433.09586235,\n",
       "        973566.55211201,  333264.2489761 ,  422895.69619988,\n",
       "        428615.58243814,  466366.86915737,  366992.05101586,\n",
       "        357761.05986507, 1435221.38216346,  625972.46881557,\n",
       "        523679.01183272,  990933.44945479,  439756.25521295,\n",
       "        558979.43649441,  314386.14736698,   90342.08597683,\n",
       "        613677.78528351,  668964.93585544,  114788.13057978,\n",
       "        176652.99570334,  230577.76571385,  627030.18912358,\n",
       "       2024761.72008474,  343712.27020761,  460304.74196355,\n",
       "        242285.68309746,  821324.93079697,  112338.12209028,\n",
       "        737001.22211993,  374101.1332139 ,  232106.08602722,\n",
       "        569683.33762089,  232199.3189698 ,  283654.81151569,\n",
       "       1499065.01277641,  684466.8737837 ,  233398.52433475,\n",
       "        286297.17292087,  760622.67214643,  459321.77724426,\n",
       "        717446.6429039 ,  645815.56122565,  416594.17091003,\n",
       "        297890.34107908,  375684.96753395,  263272.7936322 ,\n",
       "         78971.86958933,  687959.65064097,  501372.55198406,\n",
       "        729698.23953228,  346983.50856077,  424311.0797789 ,\n",
       "        105964.16964913,  235814.86104519,   88365.80587456,\n",
       "        462526.55733442,  313609.99219506,  157168.92093479,\n",
       "        356002.56885839,  107267.4096958 ,  151510.14444673,\n",
       "        103347.46621639, 1521425.64198108,  810867.43456596,\n",
       "        330778.26908687,  549866.14294884,  508607.6081299 ,\n",
       "        296119.44711237,  344444.73018329,  279809.80217875,\n",
       "        355080.79196184,  431832.38938517,  317580.64535559,\n",
       "        445577.92957376,  996635.49947179,  339676.44335176,\n",
       "        803920.74818362,  550799.07803079,  288665.33376741,\n",
       "        740172.73225024,  434788.01177474,  675890.59421944,\n",
       "        487304.69763286,  633721.02820486,  943623.96150277,\n",
       "        213570.41264374,  321966.13931416,  283654.81151569,\n",
       "        389228.99614366,  988309.8501808 ,  252708.80593967,\n",
       "        288758.48991795,  380552.82086203,  780851.79607716,\n",
       "        537173.50943382,  580044.69250556,  162721.71325454,\n",
       "        409500.66939504,  339676.44335176,  116079.24058906,\n",
       "        411910.98333379, 1020780.59068064,  298695.8236405 ,\n",
       "        363203.27468981,  122598.70823703,  413155.09088015,\n",
       "        680515.22903079,  421599.02497037,  298100.98277946,\n",
       "        263027.39322023,  325384.74612765,  277800.26948912,\n",
       "         94753.60394039,  460457.58351938,  310653.22683249,\n",
       "        622523.28946511,  334893.1361363 ,  625989.65484981,\n",
       "        298695.8236405 ,  609223.18240244, 1895022.21051861,\n",
       "        127314.88166565,  317580.64535559,  154825.23972316,\n",
       "        453418.25659186,  494259.35294713,   91313.57809878,\n",
       "        680515.22903079,  590134.64083844,  387426.68030197,\n",
       "        513025.39325664,  262457.23642785,  380552.82086203,\n",
       "        112449.29370962,  486322.5672083 ,  422895.69619988,\n",
       "        323660.18686907,  626415.56805247,  831326.23626224,\n",
       "        122598.70823703,  451920.85980366,  297042.64614413,\n",
       "       1467247.9297217 ,  817018.52127766,  671581.2631403 ,\n",
       "        453119.64056958,  107349.36895436,  675890.59421944,\n",
       "         84293.57848819,  366389.58079324,  282613.69344661,\n",
       "       1019847.90562125,  457919.02262512,  424311.0797789 ,\n",
       "        368182.28383041,  390786.637682  ,  417512.20042821,\n",
       "        476946.36328886,  180609.74301697,  499856.61671   ,\n",
       "        136550.34966322,  680515.22903079,  668964.93585544,\n",
       "        737001.22211993,  272521.35484129,  317273.41735722,\n",
       "        426246.35887569, 1457563.0192936 ,  256116.83541013,\n",
       "        172417.76718123,  231947.55836198,  204107.15184719,\n",
       "        105726.49311195,  230014.88064499,  741781.27984491,\n",
       "        205643.65985696,  135286.49291872,  369095.33112896,\n",
       "        370344.69870176,  181498.32990857,  365081.92871498,\n",
       "        188170.05942845,  424404.56588688,  699595.62125302,\n",
       "        660759.07723086,  677591.35497234, 1065465.15836686,\n",
       "        416937.07687935,  531978.38458806,   87435.46291139,\n",
       "        825472.37043442, 1228943.51558923,  766232.16703562,\n",
       "        207918.14555611,  245231.61943491,  275118.90695034,\n",
       "        544739.63957463,  310153.07362187,  445577.92957376,\n",
       "        274629.53485422, 1755869.75360316, 1231554.70247193,\n",
       "        188721.65977742,  347187.54528496,  128766.03072689,\n",
       "        128164.79244519,  431976.09934362,  363203.27468981,\n",
       "        486107.63229313,  271998.45451313,  353432.55407573,\n",
       "        463502.52602878,  209712.10714492,  206371.40667024,\n",
       "        621725.539089  ,   88106.50561464,  221184.47429349,\n",
       "        385690.30243321,  558660.88454015,  487304.69763286,\n",
       "       1487276.8810126 ,  445165.52117426,  379498.50591434,\n",
       "       1382524.83539291,  366614.30376031,  330388.01197068,\n",
       "        287760.99665318,  916243.49479495,  477725.99019874,\n",
       "        325829.08729212,  393641.66756396, 1100212.29074819,\n",
       "        622523.28946511,  298100.98277946,  669088.53203835,\n",
       "       1105016.74898249,  708511.74122127,  235814.86104519,\n",
       "        458245.85958746,  365276.16870304,  298100.98277946,\n",
       "        642032.89028443,  328900.38926451,  257243.95113286,\n",
       "        173693.73272741,  402977.20328318, 1457563.0192936 ,\n",
       "        154911.91220989,  309720.43849717,  200556.56801938,\n",
       "        249901.93804347,  486303.52662949,  164230.10347632,\n",
       "        433601.75085709,  291162.64119402,  609223.18240244,\n",
       "        729698.23953228,  318721.82892074,  356485.29974716,\n",
       "        176158.15545449,  430222.33252322,  137474.71763394,\n",
       "         99854.60353963,  508304.35561158,  109439.20394218,\n",
       "        554755.53010994,  155735.34666249,  107018.37165868,\n",
       "        420030.90078909,  398542.72019703,  239722.72503489,\n",
       "        210098.74114925,  360637.80155537,  887568.77397016,\n",
       "        645007.33638457,  432965.55911005,  545733.4721241 ,\n",
       "        353661.48170933,  424270.60939206,  364696.05795593,\n",
       "        465972.01463086,  480154.20303909,  114788.13057978,\n",
       "         90973.69716762,  564530.94642677, 3365978.1581884 ,\n",
       "        275476.19300749,  699595.62125302,  357761.05986507,\n",
       "        259343.81559937,  620228.65200379,  165906.7337706 ,\n",
       "        593584.67231739,  223425.03492712,  431832.38938517,\n",
       "        750652.22045232,  249269.35342002,  325164.32662628,\n",
       "        244181.05624155,  416776.70881804,  162228.00514687,\n",
       "        128548.35931778,  964445.41339954,  964445.41339954,\n",
       "        729698.23953228,  784362.23219878,  366614.30376031,\n",
       "        533606.19236611,  312105.01681885,  104623.49095258,\n",
       "        301679.47892981,  468021.26349909,  192239.83957775,\n",
       "        273715.41989323,  367567.45832326, 1457563.0192936 ,\n",
       "        293206.61482938,  551637.98543566,  105648.75382587,\n",
       "        440821.46570652,  430504.39729788,  276605.28843698,\n",
       "         91941.29143503,  102873.64551847,   99711.28118039,\n",
       "       1099877.91736736,  197634.31692213,  364696.05795593,\n",
       "        315466.65236259,  906531.14647943,  411910.98333379,\n",
       "        769224.76073192,  110930.19802699,  465972.01463086,\n",
       "        487662.43072937,  331689.02939122,  176344.53459103,\n",
       "       1224900.10782145,  135286.49291872,  124254.95060172,\n",
       "        498225.78690851,  719564.72471443,  232199.3189698 ,\n",
       "        775838.78270591,  351628.72579314,  305068.26151807,\n",
       "        477725.99019874,  678869.93338223,  331984.57132235,\n",
       "        103750.70653726,  313346.27362065,  325159.73752593,\n",
       "        815248.90716848,  662152.19033615,  457068.79305905,\n",
       "        115309.26761178,  635169.32467538,  180881.76747305,\n",
       "        171763.22427653,  357998.26736822,  881214.78334955,\n",
       "        321966.13931416,  215963.67738566,  642617.05718099,\n",
       "        366614.30376031,  465972.01463086,  487304.69763286,\n",
       "        465972.01463086,  313514.95671488,  416776.70881804,\n",
       "        846338.78151391,  217771.48197481,  550799.07803079,\n",
       "        333264.2489761 ,  430397.61090673,  850372.74759342,\n",
       "        312105.01681885,  188896.51704337,  592025.66306881,\n",
       "       1360211.02484442,  668964.93585544,  846401.85220922,\n",
       "        242285.68309746,  381435.41898559,  100599.57292114,\n",
       "        161733.21924822, 1436205.82483644,  378979.47107582,\n",
       "       2300532.60436785,  514503.45734295, 1638786.00139498,\n",
       "        838349.42811715,  228867.97966907,   88421.68560727,\n",
       "        432452.86144644,  288758.48991795,  206176.7422692 ,\n",
       "        168074.95263605,  166804.32315786,  627030.18912358,\n",
       "        486303.52662949,  907466.47125632,  240273.08220895,\n",
       "        235800.8750741 ,  429106.98161511, 1228943.51558923,\n",
       "        578935.84324749,  293628.35613039,  249529.97270193,\n",
       "       1482210.42046107,  340238.99510858,  229385.33031248,\n",
       "        634064.29210005,  444515.46184201,  142651.16127208,\n",
       "         87586.56145216,  550799.07803079,  317273.41735722,\n",
       "       1260674.16028763,  552413.66926141, 1302818.31287662,\n",
       "        154676.20316592,  360744.03580019,  460346.05224966,\n",
       "         97688.8115012 ,  515235.20276587,  220825.51630627,\n",
       "        866123.03474554,  441881.79752535,  293116.11937106,\n",
       "        268185.71405053,  192218.93297794,  271136.95134045,\n",
       "        230577.76571385,  209426.84066303,  777698.93492318,\n",
       "        378868.80118377,  460001.44001811,  389228.99614366,\n",
       "        240801.93913428,  627030.18912358,  231167.97574823,\n",
       "        687531.4481638 ,  328579.47922233,  254271.91825871,\n",
       "        216389.27912582,  621106.08963598,  944121.83181295,\n",
       "        454314.28866025,  301149.08016517,  675784.70132286,\n",
       "        103750.70653726,  332269.85270763,  203815.7866003 ,\n",
       "        117792.44287235,  312334.58541279,  151510.14444673,\n",
       "        339194.17552881,  299306.39492242,  550799.07803079,\n",
       "        708009.94470399,  427050.78023857,  255114.61105924,\n",
       "        375689.06724121,  354003.44449433,  480711.11556193,\n",
       "        511401.1574204 ,  427431.00149652,  221300.52832759,\n",
       "        660635.38575244,  716806.94873584,  795316.21765958,\n",
       "        425397.17559168, 2210669.04760358,  467214.80761548,\n",
       "       1166393.83578219])"
      ]
     },
     "execution_count": 45,
     "metadata": {},
     "output_type": "execute_result"
    }
   ],
   "source": [
    "predictions"
   ]
  },
  {
   "cell_type": "code",
   "execution_count": 46,
   "metadata": {},
   "outputs": [
    {
     "data": {
      "image/png": "[encoded data removed]",
      "text/plain": [
       "<Figure size 432x288 with 1 Axes>"
      ]
     },
     "metadata": {
      "needs_background": "light"
     },
     "output_type": "display_data"
    }
   ],
   "source": [
    "sns.distplot(y_test-predictions)\n",
    "plt.show()"
   ]
  },
  {
   "cell_type": "markdown",
   "metadata": {},
   "source": [
    "### from the above graph the residuals are following normal distribution , so we can conclude the model is good."
   ]
  },
  {
   "cell_type": "code",
   "execution_count": 48,
   "metadata": {},
   "outputs": [
    {
     "data": {
      "image/png": "[encoded data removed]",
      "text/plain": [
       "<Figure size 432x288 with 1 Axes>"
      ]
     },
     "metadata": {
      "needs_background": "light"
     },
     "output_type": "display_data"
    }
   ],
   "source": [
    "plt.scatter(y_test,predictions)\n",
    "plt.show()"
   ]
  },
  {
   "cell_type": "markdown",
   "metadata": {},
   "source": [
    "## pickle the file"
   ]
  },
  {
   "cell_type": "code",
   "execution_count": 49,
   "metadata": {},
   "outputs": [],
   "source": [
    "import pickle\n",
    "# open the file where you want to store the data\n",
    "file=open('random_forst_tegression_model.pkl','wb')\n",
    "# dump information to that file\n",
    "pickle.dump(rf_random,file)"
   ]
  },
  {
   "cell_type": "code",
   "execution_count": null,
   "metadata": {},
   "outputs": [],
   "source": []
  }
 ],
 "metadata": {
  "kernelspec": {
   "display_name": "Python 3",
   "language": "python",
   "name": "python3"
  },
  "language_info": {
   "codemirror_mode": {
    "name": "ipython",
    "version": 3
   },
   "file_extension": ".py",
   "mimetype": "text/x-python",
   "name": "python",
   "nbconvert_exporter": "python",
   "pygments_lexer": "ipython3",
   "version": "3.7.4"
  }
 },
 "nbformat": 4,
 "nbformat_minor": 2
}
